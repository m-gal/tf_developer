{
  "nbformat": 4,
  "nbformat_minor": 0,
  "metadata": {
    "accelerator": "GPU",
    "colab": {
      "name": "Course 3 - Week 3 - Lesson 2.ipynb",
      "provenance": [],
      "collapsed_sections": [],
      "toc_visible": true
    },
    "kernelspec": {
      "display_name": "Python 3",
      "language": "python",
      "name": "python3"
    },
    "language_info": {
      "codemirror_mode": {
        "name": "ipython",
        "version": 3
      },
      "file_extension": ".py",
      "mimetype": "text/x-python",
      "name": "python",
      "nbconvert_exporter": "python",
      "pygments_lexer": "ipython3",
      "version": "3.7.6"
    }
  },
  "cells": [
    {
      "cell_type": "code",
      "metadata": {
        "colab_type": "code",
        "id": "zX4Kg8DUTKWO",
        "colab": {}
      },
      "source": [
        "#@title Licensed under the Apache License, Version 2.0 (the \"License\");\n",
        "# you may not use this file except in compliance with the License.\n",
        "# You may obtain a copy of the License at\n",
        "#\n",
        "# https://www.apache.org/licenses/LICENSE-2.0\n",
        "#\n",
        "# Unless required by applicable law or agreed to in writing, software\n",
        "# distributed under the License is distributed on an \"AS IS\" BASIS,\n",
        "# WITHOUT WARRANTIES OR CONDITIONS OF ANY KIND, either express or implied.\n",
        "# See the License for the specific language governing permissions and\n",
        "# limitations under the License."
      ],
      "execution_count": null,
      "outputs": []
    },
    {
      "cell_type": "markdown",
      "metadata": {
        "id": "jyj4BP1SXCl-",
        "colab_type": "text"
      },
      "source": [
        "<a href=\"https://colab.research.google.com/github/lmoroney/dlaicourse/blob/master/TensorFlow%20In%20Practice/Course%203%20-%20NLP/Course%203%20-%20Week%203%20-%20Lesson%202.ipynb\" target=\"_parent\"><img src=\"https://colab.research.google.com/assets/colab-badge.svg\" alt=\"Open In Colab\"/></a>"
      ]
    },
    {
      "cell_type": "code",
      "metadata": {
        "colab_type": "code",
        "id": "jGwXGIXvFhXW",
        "colab": {
          "base_uri": "https://localhost:8080/",
          "height": 1000
        },
        "outputId": "de781423-e7c3-48b1-976e-08078310cf4b"
      },
      "source": [
        "import numpy as np\n",
        "\n",
        "import json\n",
        "import tensorflow as tf\n",
        "\n",
        "from tensorflow.keras.preprocessing.text import Tokenizer\n",
        "from tensorflow.keras.preprocessing.sequence import pad_sequences\n",
        "\n",
        "!wget --no-check-certificate \\\n",
        "    https://storage.googleapis.com/laurencemoroney-blog.appspot.com/sarcasm.json \\\n",
        "    -O /tmp/sarcasm.json\n",
        "\n",
        "vocab_size = 1000\n",
        "embedding_dim = 16\n",
        "max_length = 120\n",
        "trunc_type='post'\n",
        "padding_type='post'\n",
        "oov_tok = \"<OOV>\"\n",
        "training_size = 20000\n",
        "\n",
        "\n",
        "with open(\"/tmp/sarcasm.json\", 'r') as f:\n",
        "    datastore = json.load(f)\n",
        "\n",
        "\n",
        "sentences = []\n",
        "labels = []\n",
        "urls = []\n",
        "for item in datastore:\n",
        "    sentences.append(item['headline'])\n",
        "    labels.append(item['is_sarcastic'])\n",
        "\n",
        "training_sentences = sentences[0:training_size]\n",
        "testing_sentences = sentences[training_size:]\n",
        "training_labels = labels[0:training_size]\n",
        "testing_labels = labels[training_size:]\n",
        "\n",
        "tokenizer = Tokenizer(num_words=vocab_size, oov_token=oov_tok)\n",
        "tokenizer.fit_on_texts(training_sentences)\n",
        "\n",
        "word_index = tokenizer.word_index\n",
        "\n",
        "training_sequences = tokenizer.texts_to_sequences(training_sentences)\n",
        "training_padded = pad_sequences(training_sequences, maxlen=max_length, padding=padding_type, truncating=trunc_type)\n",
        "\n",
        "testing_sequences = tokenizer.texts_to_sequences(testing_sentences)\n",
        "testing_padded = pad_sequences(testing_sequences, maxlen=max_length, padding=padding_type, truncating=trunc_type)\n",
        "\n",
        "model = tf.keras.Sequential([\n",
        "    tf.keras.layers.Embedding(vocab_size, embedding_dim, input_length=max_length),\n",
        "    tf.keras.layers.Bidirectional(tf.keras.layers.LSTM(32)),\n",
        "    tf.keras.layers.Dense(24, activation='relu'),\n",
        "    tf.keras.layers.Dense(1, activation='sigmoid')\n",
        "])\n",
        "model.compile(loss='binary_crossentropy',optimizer='adam',metrics=['accuracy'])\n",
        "model.summary()\n",
        "\n",
        "num_epochs = 50\n",
        "training_padded = np.array(training_padded)\n",
        "training_labels = np.array(training_labels)\n",
        "testing_padded = np.array(testing_padded)\n",
        "testing_labels = np.array(testing_labels)\n",
        "history = model.fit(training_padded, training_labels, epochs=num_epochs, validation_data=(testing_padded, testing_labels), verbose=1)\n"
      ],
      "execution_count": 1,
      "outputs": [
        {
          "output_type": "stream",
          "text": [
            "--2020-09-23 14:47:24--  https://storage.googleapis.com/laurencemoroney-blog.appspot.com/sarcasm.json\n",
            "Resolving storage.googleapis.com (storage.googleapis.com)... 173.194.217.128, 108.177.13.128, 172.217.204.128, ...\n",
            "Connecting to storage.googleapis.com (storage.googleapis.com)|173.194.217.128|:443... connected.\n",
            "HTTP request sent, awaiting response... 200 OK\n",
            "Length: 5643545 (5.4M) [application/json]\n",
            "Saving to: ‘/tmp/sarcasm.json’\n",
            "\n",
            "\r/tmp/sarcasm.json     0%[                    ]       0  --.-KB/s               \r/tmp/sarcasm.json   100%[===================>]   5.38M  --.-KB/s    in 0.04s   \n",
            "\n",
            "2020-09-23 14:47:24 (148 MB/s) - ‘/tmp/sarcasm.json’ saved [5643545/5643545]\n",
            "\n",
            "Model: \"sequential\"\n",
            "_________________________________________________________________\n",
            "Layer (type)                 Output Shape              Param #   \n",
            "=================================================================\n",
            "embedding (Embedding)        (None, 120, 16)           16000     \n",
            "_________________________________________________________________\n",
            "bidirectional (Bidirectional (None, 64)                12544     \n",
            "_________________________________________________________________\n",
            "dense (Dense)                (None, 24)                1560      \n",
            "_________________________________________________________________\n",
            "dense_1 (Dense)              (None, 1)                 25        \n",
            "=================================================================\n",
            "Total params: 30,129\n",
            "Trainable params: 30,129\n",
            "Non-trainable params: 0\n",
            "_________________________________________________________________\n",
            "Epoch 1/50\n",
            "625/625 [==============================] - 39s 62ms/step - loss: 0.4524 - accuracy: 0.7733 - val_loss: 0.3843 - val_accuracy: 0.8253\n",
            "Epoch 2/50\n",
            "625/625 [==============================] - 38s 61ms/step - loss: 0.3525 - accuracy: 0.8384 - val_loss: 0.3752 - val_accuracy: 0.8293\n",
            "Epoch 3/50\n",
            "625/625 [==============================] - 37s 60ms/step - loss: 0.3259 - accuracy: 0.8534 - val_loss: 0.3695 - val_accuracy: 0.8335\n",
            "Epoch 4/50\n",
            "625/625 [==============================] - 37s 60ms/step - loss: 0.3083 - accuracy: 0.8625 - val_loss: 0.3725 - val_accuracy: 0.8351\n",
            "Epoch 5/50\n",
            "625/625 [==============================] - 37s 60ms/step - loss: 0.2967 - accuracy: 0.8676 - val_loss: 0.3824 - val_accuracy: 0.8344\n",
            "Epoch 6/50\n",
            "625/625 [==============================] - 37s 60ms/step - loss: 0.2858 - accuracy: 0.8755 - val_loss: 0.3815 - val_accuracy: 0.8295\n",
            "Epoch 7/50\n",
            "625/625 [==============================] - 37s 60ms/step - loss: 0.2763 - accuracy: 0.8794 - val_loss: 0.3962 - val_accuracy: 0.8320\n",
            "Epoch 8/50\n",
            "625/625 [==============================] - 37s 60ms/step - loss: 0.2684 - accuracy: 0.8830 - val_loss: 0.4061 - val_accuracy: 0.8264\n",
            "Epoch 9/50\n",
            "625/625 [==============================] - 37s 60ms/step - loss: 0.2617 - accuracy: 0.8863 - val_loss: 0.3968 - val_accuracy: 0.8292\n",
            "Epoch 10/50\n",
            "625/625 [==============================] - 37s 60ms/step - loss: 0.2518 - accuracy: 0.8920 - val_loss: 0.4017 - val_accuracy: 0.8252\n",
            "Epoch 11/50\n",
            "625/625 [==============================] - 37s 60ms/step - loss: 0.2429 - accuracy: 0.8932 - val_loss: 0.4165 - val_accuracy: 0.8185\n",
            "Epoch 12/50\n",
            "625/625 [==============================] - 37s 60ms/step - loss: 0.2351 - accuracy: 0.9009 - val_loss: 0.4339 - val_accuracy: 0.8223\n",
            "Epoch 13/50\n",
            "625/625 [==============================] - 38s 60ms/step - loss: 0.2273 - accuracy: 0.9043 - val_loss: 0.4609 - val_accuracy: 0.8213\n",
            "Epoch 14/50\n",
            "625/625 [==============================] - 37s 60ms/step - loss: 0.2179 - accuracy: 0.9083 - val_loss: 0.4564 - val_accuracy: 0.8219\n",
            "Epoch 15/50\n",
            "625/625 [==============================] - 37s 60ms/step - loss: 0.2103 - accuracy: 0.9103 - val_loss: 0.4687 - val_accuracy: 0.8147\n",
            "Epoch 16/50\n",
            "625/625 [==============================] - 37s 60ms/step - loss: 0.2014 - accuracy: 0.9139 - val_loss: 0.4784 - val_accuracy: 0.8188\n",
            "Epoch 17/50\n",
            "625/625 [==============================] - 37s 60ms/step - loss: 0.1936 - accuracy: 0.9208 - val_loss: 0.5678 - val_accuracy: 0.8167\n",
            "Epoch 18/50\n",
            "625/625 [==============================] - 37s 60ms/step - loss: 0.1872 - accuracy: 0.9235 - val_loss: 0.5422 - val_accuracy: 0.8126\n",
            "Epoch 19/50\n",
            "625/625 [==============================] - 37s 60ms/step - loss: 0.1826 - accuracy: 0.9242 - val_loss: 0.5789 - val_accuracy: 0.8137\n",
            "Epoch 20/50\n",
            "625/625 [==============================] - 37s 60ms/step - loss: 0.1739 - accuracy: 0.9273 - val_loss: 0.5727 - val_accuracy: 0.8110\n",
            "Epoch 21/50\n",
            "625/625 [==============================] - 37s 60ms/step - loss: 0.1653 - accuracy: 0.9331 - val_loss: 0.6052 - val_accuracy: 0.8058\n",
            "Epoch 22/50\n",
            "625/625 [==============================] - 37s 60ms/step - loss: 0.1567 - accuracy: 0.9363 - val_loss: 0.7095 - val_accuracy: 0.8053\n",
            "Epoch 23/50\n",
            "625/625 [==============================] - 37s 60ms/step - loss: 0.1501 - accuracy: 0.9387 - val_loss: 0.8010 - val_accuracy: 0.8019\n",
            "Epoch 24/50\n",
            "625/625 [==============================] - 37s 60ms/step - loss: 0.1450 - accuracy: 0.9403 - val_loss: 0.7143 - val_accuracy: 0.8068\n",
            "Epoch 25/50\n",
            "625/625 [==============================] - 37s 60ms/step - loss: 0.1369 - accuracy: 0.9442 - val_loss: 0.8047 - val_accuracy: 0.7970\n",
            "Epoch 26/50\n",
            "625/625 [==============================] - 37s 60ms/step - loss: 0.1334 - accuracy: 0.9458 - val_loss: 0.8235 - val_accuracy: 0.7970\n",
            "Epoch 27/50\n",
            "625/625 [==============================] - 37s 60ms/step - loss: 0.1206 - accuracy: 0.9505 - val_loss: 0.8406 - val_accuracy: 0.7989\n",
            "Epoch 28/50\n",
            "625/625 [==============================] - 37s 60ms/step - loss: 0.1200 - accuracy: 0.9493 - val_loss: 1.0353 - val_accuracy: 0.7933\n",
            "Epoch 29/50\n",
            "625/625 [==============================] - 37s 60ms/step - loss: 0.1116 - accuracy: 0.9533 - val_loss: 1.0202 - val_accuracy: 0.7952\n",
            "Epoch 30/50\n",
            "625/625 [==============================] - 37s 60ms/step - loss: 0.1064 - accuracy: 0.9541 - val_loss: 1.0666 - val_accuracy: 0.7983\n",
            "Epoch 31/50\n",
            "625/625 [==============================] - 37s 60ms/step - loss: 0.1010 - accuracy: 0.9559 - val_loss: 1.0787 - val_accuracy: 0.7937\n",
            "Epoch 32/50\n",
            "625/625 [==============================] - 37s 60ms/step - loss: 0.1012 - accuracy: 0.9560 - val_loss: 1.1393 - val_accuracy: 0.7934\n",
            "Epoch 33/50\n",
            "625/625 [==============================] - 37s 60ms/step - loss: 0.0952 - accuracy: 0.9603 - val_loss: 1.2481 - val_accuracy: 0.7918\n",
            "Epoch 34/50\n",
            "625/625 [==============================] - 37s 60ms/step - loss: 0.0917 - accuracy: 0.9614 - val_loss: 1.2802 - val_accuracy: 0.7925\n",
            "Epoch 35/50\n",
            "625/625 [==============================] - 37s 60ms/step - loss: 0.0855 - accuracy: 0.9631 - val_loss: 1.3226 - val_accuracy: 0.7945\n",
            "Epoch 36/50\n",
            "625/625 [==============================] - 37s 60ms/step - loss: 0.0813 - accuracy: 0.9652 - val_loss: 1.3301 - val_accuracy: 0.7962\n",
            "Epoch 37/50\n",
            "625/625 [==============================] - 37s 60ms/step - loss: 0.0785 - accuracy: 0.9657 - val_loss: 1.3702 - val_accuracy: 0.7940\n",
            "Epoch 38/50\n",
            "625/625 [==============================] - 37s 60ms/step - loss: 0.0759 - accuracy: 0.9662 - val_loss: 1.5078 - val_accuracy: 0.7913\n",
            "Epoch 39/50\n",
            "625/625 [==============================] - 37s 59ms/step - loss: 0.0791 - accuracy: 0.9651 - val_loss: 1.4423 - val_accuracy: 0.7937\n",
            "Epoch 40/50\n",
            "625/625 [==============================] - 37s 60ms/step - loss: 0.0746 - accuracy: 0.9665 - val_loss: 1.4441 - val_accuracy: 0.7973\n",
            "Epoch 41/50\n",
            "625/625 [==============================] - 37s 60ms/step - loss: 0.0745 - accuracy: 0.9673 - val_loss: 1.5013 - val_accuracy: 0.7925\n",
            "Epoch 42/50\n",
            "625/625 [==============================] - 37s 60ms/step - loss: 0.0635 - accuracy: 0.9711 - val_loss: 1.6286 - val_accuracy: 0.7913\n",
            "Epoch 43/50\n",
            "625/625 [==============================] - 37s 60ms/step - loss: 0.0610 - accuracy: 0.9725 - val_loss: 1.7916 - val_accuracy: 0.7934\n",
            "Epoch 44/50\n",
            "625/625 [==============================] - 37s 60ms/step - loss: 0.0631 - accuracy: 0.9714 - val_loss: 1.6227 - val_accuracy: 0.7873\n",
            "Epoch 45/50\n",
            "625/625 [==============================] - 37s 60ms/step - loss: 0.0635 - accuracy: 0.9711 - val_loss: 1.6853 - val_accuracy: 0.7924\n",
            "Epoch 46/50\n",
            "625/625 [==============================] - 37s 60ms/step - loss: 0.0591 - accuracy: 0.9740 - val_loss: 1.7565 - val_accuracy: 0.7980\n",
            "Epoch 47/50\n",
            "625/625 [==============================] - 37s 59ms/step - loss: 0.0609 - accuracy: 0.9734 - val_loss: 1.8101 - val_accuracy: 0.7915\n",
            "Epoch 48/50\n",
            "625/625 [==============================] - 37s 60ms/step - loss: 0.0629 - accuracy: 0.9715 - val_loss: 1.7341 - val_accuracy: 0.7983\n",
            "Epoch 49/50\n",
            "625/625 [==============================] - 37s 60ms/step - loss: 0.0574 - accuracy: 0.9750 - val_loss: 1.7330 - val_accuracy: 0.7876\n",
            "Epoch 50/50\n",
            "625/625 [==============================] - 37s 60ms/step - loss: 0.0549 - accuracy: 0.9758 - val_loss: 1.8046 - val_accuracy: 0.7939\n"
          ],
          "name": "stdout"
        }
      ]
    },
    {
      "cell_type": "code",
      "metadata": {
        "colab_type": "code",
        "id": "g9DC6dmLF8DC",
        "colab": {
          "base_uri": "https://localhost:8080/",
          "height": 541
        },
        "outputId": "930d858c-0b59-418d-8c90-8a8aac12e928"
      },
      "source": [
        "import matplotlib.pyplot as plt\n",
        "\n",
        "\n",
        "def plot_graphs(history, string):\n",
        "  plt.plot(history.history[string])\n",
        "  plt.plot(history.history['val_'+string])\n",
        "  plt.xlabel(\"Epochs\")\n",
        "  plt.ylabel(string)\n",
        "  plt.legend([string, 'val_'+string])\n",
        "  plt.show()\n",
        "\n",
        "plot_graphs(history, 'accuracy')\n",
        "plot_graphs(history, 'loss')"
      ],
      "execution_count": 2,
      "outputs": [
        {
          "output_type": "display_data",
          "data": {
            "image/png": "[encoded data removed]",
            "text/plain": [
              "<Figure size 432x288 with 1 Axes>"
            ]
          },
          "metadata": {
            "tags": [],
            "needs_background": "light"
          }
        },
        {
          "output_type": "display_data",
          "data": {
            "image/png": "[encoded data removed]",
            "text/plain": [
              "<Figure size 432x288 with 1 Axes>"
            ]
          },
          "metadata": {
            "tags": [],
            "needs_background": "light"
          }
        }
      ]
    },
    {
      "cell_type": "code",
      "metadata": {
        "colab_type": "code",
        "id": "7ZEZIUppGhdi",
        "colab": {}
      },
      "source": [
        "model.save(\"test.h5\")"
      ],
      "execution_count": 3,
      "outputs": []
    }
  ]
}