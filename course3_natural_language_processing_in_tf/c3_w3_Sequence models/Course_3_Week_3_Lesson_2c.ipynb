{
  "nbformat": 4,
  "nbformat_minor": 0,
  "metadata": {
    "accelerator": "GPU",
    "colab": {
      "name": "Course 3 - Week 3 - Lesson 2c.ipynb",
      "provenance": [],
      "collapsed_sections": [],
      "toc_visible": true
    },
    "kernelspec": {
      "display_name": "Python 3",
      "language": "python",
      "name": "python3"
    },
    "language_info": {
      "codemirror_mode": {
        "name": "ipython",
        "version": 3
      },
      "file_extension": ".py",
      "mimetype": "text/x-python",
      "name": "python",
      "nbconvert_exporter": "python",
      "pygments_lexer": "ipython3",
      "version": "3.7.6"
    }
  },
  "cells": [
    {
      "cell_type": "code",
      "metadata": {
        "colab_type": "code",
        "id": "zX4Kg8DUTKWO",
        "colab": {}
      },
      "source": [
        "#@title Licensed under the Apache License, Version 2.0 (the \"License\");\n",
        "# you may not use this file except in compliance with the License.\n",
        "# You may obtain a copy of the License at\n",
        "#\n",
        "# https://www.apache.org/licenses/LICENSE-2.0\n",
        "#\n",
        "# Unless required by applicable law or agreed to in writing, software\n",
        "# distributed under the License is distributed on an \"AS IS\" BASIS,\n",
        "# WITHOUT WARRANTIES OR CONDITIONS OF ANY KIND, either express or implied.\n",
        "# See the License for the specific language governing permissions and\n",
        "# limitations under the License."
      ],
      "execution_count": null,
      "outputs": []
    },
    {
      "cell_type": "markdown",
      "metadata": {
        "id": "QcBXkfzNXFLD",
        "colab_type": "text"
      },
      "source": [
        "<a href=\"https://colab.research.google.com/github/lmoroney/dlaicourse/blob/master/TensorFlow%20In%20Practice/Course%203%20-%20NLP/Course%203%20-%20Week%203%20-%20Lesson%202c.ipynb\" target=\"_parent\"><img src=\"https://colab.research.google.com/assets/colab-badge.svg\" alt=\"Open In Colab\"/></a>"
      ]
    },
    {
      "cell_type": "code",
      "metadata": {
        "colab_type": "code",
        "id": "jGwXGIXvFhXW",
        "colab": {
          "base_uri": "https://localhost:8080/",
          "height": 1000
        },
        "outputId": "459ce7ec-4621-4cca-c697-28658676d805"
      },
      "source": [
        "import numpy as np\n",
        "\n",
        "import json\n",
        "import tensorflow as tf\n",
        "\n",
        "from tensorflow.keras.preprocessing.text import Tokenizer\n",
        "from tensorflow.keras.preprocessing.sequence import pad_sequences\n",
        "\n",
        "!wget --no-check-certificate \\\n",
        "    https://storage.googleapis.com/laurencemoroney-blog.appspot.com/sarcasm.json \\\n",
        "    -O /tmp/sarcasm.json\n",
        "\n",
        "vocab_size = 1000\n",
        "embedding_dim = 16\n",
        "max_length = 120\n",
        "trunc_type='post'\n",
        "padding_type='post'\n",
        "oov_tok = \"<OOV>\"\n",
        "training_size = 20000\n",
        "\n",
        "\n",
        "with open(\"/tmp/sarcasm.json\", 'r') as f:\n",
        "    datastore = json.load(f)\n",
        "\n",
        "\n",
        "sentences = []\n",
        "labels = []\n",
        "urls = []\n",
        "for item in datastore:\n",
        "    sentences.append(item['headline'])\n",
        "    labels.append(item['is_sarcastic'])\n",
        "\n",
        "training_sentences = sentences[0:training_size]\n",
        "testing_sentences = sentences[training_size:]\n",
        "training_labels = labels[0:training_size]\n",
        "testing_labels = labels[training_size:]\n",
        "\n",
        "tokenizer = Tokenizer(num_words=vocab_size, oov_token=oov_tok)\n",
        "tokenizer.fit_on_texts(training_sentences)\n",
        "\n",
        "word_index = tokenizer.word_index\n",
        "\n",
        "training_sequences = tokenizer.texts_to_sequences(training_sentences)\n",
        "training_padded = pad_sequences(training_sequences, maxlen=max_length, padding=padding_type, truncating=trunc_type)\n",
        "\n",
        "testing_sequences = tokenizer.texts_to_sequences(testing_sentences)\n",
        "testing_padded = pad_sequences(testing_sequences, maxlen=max_length, padding=padding_type, truncating=trunc_type)\n",
        "\n",
        "model = tf.keras.Sequential([\n",
        "    tf.keras.layers.Embedding(vocab_size, embedding_dim, input_length=max_length),\n",
        "    tf.keras.layers.Conv1D(128, 5, activation='relu'),\n",
        "    tf.keras.layers.GlobalMaxPooling1D(),\n",
        "    tf.keras.layers.Dense(24, activation='relu'),\n",
        "    tf.keras.layers.Dense(1, activation='sigmoid')\n",
        "])\n",
        "model.compile(loss='binary_crossentropy',optimizer='adam',metrics=['accuracy'])\n",
        "model.summary()\n",
        "\n",
        "num_epochs = 50\n",
        "\n",
        "training_padded = np.array(training_padded)\n",
        "training_labels = np.array(training_labels)\n",
        "testing_padded = np.array(testing_padded)\n",
        "testing_labels = np.array(testing_labels)\n",
        "\n",
        "history = model.fit(training_padded, training_labels, epochs=num_epochs, validation_data=(testing_padded, testing_labels), verbose=1)\n"
      ],
      "execution_count": 1,
      "outputs": [
        {
          "output_type": "stream",
          "text": [
            "--2020-09-23 15:13:13--  https://storage.googleapis.com/laurencemoroney-blog.appspot.com/sarcasm.json\n",
            "Resolving storage.googleapis.com (storage.googleapis.com)... 74.125.204.128, 64.233.188.128, 64.233.189.128, ...\n",
            "Connecting to storage.googleapis.com (storage.googleapis.com)|74.125.204.128|:443... connected.\n",
            "HTTP request sent, awaiting response... 200 OK\n",
            "Length: 5643545 (5.4M) [application/json]\n",
            "Saving to: ‘/tmp/sarcasm.json’\n",
            "\n",
            "/tmp/sarcasm.json   100%[===================>]   5.38M  14.7MB/s    in 0.4s    \n",
            "\n",
            "2020-09-23 15:13:13 (14.7 MB/s) - ‘/tmp/sarcasm.json’ saved [5643545/5643545]\n",
            "\n",
            "Model: \"sequential\"\n",
            "_________________________________________________________________\n",
            "Layer (type)                 Output Shape              Param #   \n",
            "=================================================================\n",
            "embedding (Embedding)        (None, 120, 16)           16000     \n",
            "_________________________________________________________________\n",
            "conv1d (Conv1D)              (None, 116, 128)          10368     \n",
            "_________________________________________________________________\n",
            "global_max_pooling1d (Global (None, 128)               0         \n",
            "_________________________________________________________________\n",
            "dense (Dense)                (None, 24)                3096      \n",
            "_________________________________________________________________\n",
            "dense_1 (Dense)              (None, 1)                 25        \n",
            "=================================================================\n",
            "Total params: 29,489\n",
            "Trainable params: 29,489\n",
            "Non-trainable params: 0\n",
            "_________________________________________________________________\n",
            "Epoch 1/50\n",
            "625/625 [==============================] - 3s 5ms/step - loss: 0.4647 - accuracy: 0.7671 - val_loss: 0.4118 - val_accuracy: 0.8138\n",
            "Epoch 2/50\n",
            "625/625 [==============================] - 3s 5ms/step - loss: 0.3499 - accuracy: 0.8432 - val_loss: 0.3880 - val_accuracy: 0.8253\n",
            "Epoch 3/50\n",
            "625/625 [==============================] - 3s 5ms/step - loss: 0.3112 - accuracy: 0.8658 - val_loss: 0.3914 - val_accuracy: 0.8246\n",
            "Epoch 4/50\n",
            "625/625 [==============================] - 3s 5ms/step - loss: 0.2720 - accuracy: 0.8813 - val_loss: 0.4432 - val_accuracy: 0.8070\n",
            "Epoch 5/50\n",
            "625/625 [==============================] - 3s 5ms/step - loss: 0.2372 - accuracy: 0.9029 - val_loss: 0.4419 - val_accuracy: 0.8213\n",
            "Epoch 6/50\n",
            "625/625 [==============================] - 3s 5ms/step - loss: 0.2013 - accuracy: 0.9173 - val_loss: 0.4918 - val_accuracy: 0.8049\n",
            "Epoch 7/50\n",
            "625/625 [==============================] - 3s 5ms/step - loss: 0.1649 - accuracy: 0.9370 - val_loss: 0.5361 - val_accuracy: 0.8100\n",
            "Epoch 8/50\n",
            "625/625 [==============================] - 3s 5ms/step - loss: 0.1363 - accuracy: 0.9501 - val_loss: 0.6181 - val_accuracy: 0.7997\n",
            "Epoch 9/50\n",
            "625/625 [==============================] - 3s 5ms/step - loss: 0.1111 - accuracy: 0.9598 - val_loss: 0.6744 - val_accuracy: 0.8024\n",
            "Epoch 10/50\n",
            "625/625 [==============================] - 3s 5ms/step - loss: 0.0910 - accuracy: 0.9673 - val_loss: 0.7617 - val_accuracy: 0.8094\n",
            "Epoch 11/50\n",
            "625/625 [==============================] - 3s 5ms/step - loss: 0.0763 - accuracy: 0.9731 - val_loss: 0.8242 - val_accuracy: 0.8024\n",
            "Epoch 12/50\n",
            "625/625 [==============================] - 3s 6ms/step - loss: 0.0649 - accuracy: 0.9771 - val_loss: 0.9691 - val_accuracy: 0.8030\n",
            "Epoch 13/50\n",
            "625/625 [==============================] - 3s 5ms/step - loss: 0.0539 - accuracy: 0.9807 - val_loss: 1.0170 - val_accuracy: 0.8053\n",
            "Epoch 14/50\n",
            "625/625 [==============================] - 3s 5ms/step - loss: 0.0523 - accuracy: 0.9812 - val_loss: 1.1276 - val_accuracy: 0.8009\n",
            "Epoch 15/50\n",
            "625/625 [==============================] - 3s 5ms/step - loss: 0.0463 - accuracy: 0.9833 - val_loss: 1.2205 - val_accuracy: 0.7997\n",
            "Epoch 16/50\n",
            "625/625 [==============================] - 3s 5ms/step - loss: 0.0418 - accuracy: 0.9844 - val_loss: 1.2314 - val_accuracy: 0.7973\n",
            "Epoch 17/50\n",
            "625/625 [==============================] - 3s 5ms/step - loss: 0.0401 - accuracy: 0.9850 - val_loss: 1.3981 - val_accuracy: 0.7843\n",
            "Epoch 18/50\n",
            "625/625 [==============================] - 3s 5ms/step - loss: 0.0402 - accuracy: 0.9847 - val_loss: 1.4082 - val_accuracy: 0.7962\n",
            "Epoch 19/50\n",
            "625/625 [==============================] - 3s 5ms/step - loss: 0.0397 - accuracy: 0.9847 - val_loss: 1.4087 - val_accuracy: 0.7925\n",
            "Epoch 20/50\n",
            "625/625 [==============================] - 3s 5ms/step - loss: 0.0367 - accuracy: 0.9866 - val_loss: 1.5171 - val_accuracy: 0.7946\n",
            "Epoch 21/50\n",
            "625/625 [==============================] - 3s 5ms/step - loss: 0.0300 - accuracy: 0.9884 - val_loss: 1.5702 - val_accuracy: 0.7985\n",
            "Epoch 22/50\n",
            "625/625 [==============================] - 3s 5ms/step - loss: 0.0290 - accuracy: 0.9888 - val_loss: 1.5759 - val_accuracy: 0.7970\n",
            "Epoch 23/50\n",
            "625/625 [==============================] - 3s 5ms/step - loss: 0.0280 - accuracy: 0.9894 - val_loss: 1.5580 - val_accuracy: 0.7928\n",
            "Epoch 24/50\n",
            "625/625 [==============================] - 3s 5ms/step - loss: 0.0380 - accuracy: 0.9847 - val_loss: 1.6259 - val_accuracy: 0.8019\n",
            "Epoch 25/50\n",
            "625/625 [==============================] - 3s 5ms/step - loss: 0.0306 - accuracy: 0.9875 - val_loss: 1.7186 - val_accuracy: 0.8025\n",
            "Epoch 26/50\n",
            "625/625 [==============================] - 3s 5ms/step - loss: 0.0263 - accuracy: 0.9893 - val_loss: 1.7898 - val_accuracy: 0.8000\n",
            "Epoch 27/50\n",
            "625/625 [==============================] - 3s 5ms/step - loss: 0.0230 - accuracy: 0.9905 - val_loss: 1.8496 - val_accuracy: 0.8047\n",
            "Epoch 28/50\n",
            "625/625 [==============================] - 3s 5ms/step - loss: 0.0257 - accuracy: 0.9890 - val_loss: 1.9438 - val_accuracy: 0.7962\n",
            "Epoch 29/50\n",
            "625/625 [==============================] - 3s 5ms/step - loss: 0.0363 - accuracy: 0.9862 - val_loss: 1.7565 - val_accuracy: 0.7913\n",
            "Epoch 30/50\n",
            "625/625 [==============================] - 3s 5ms/step - loss: 0.0288 - accuracy: 0.9880 - val_loss: 2.1267 - val_accuracy: 0.7903\n",
            "Epoch 31/50\n",
            "625/625 [==============================] - 3s 5ms/step - loss: 0.0269 - accuracy: 0.9890 - val_loss: 1.8627 - val_accuracy: 0.7951\n",
            "Epoch 32/50\n",
            "625/625 [==============================] - 3s 5ms/step - loss: 0.0232 - accuracy: 0.9902 - val_loss: 2.0293 - val_accuracy: 0.7985\n",
            "Epoch 33/50\n",
            "625/625 [==============================] - 3s 5ms/step - loss: 0.0223 - accuracy: 0.9903 - val_loss: 2.0577 - val_accuracy: 0.7992\n",
            "Epoch 34/50\n",
            "625/625 [==============================] - 3s 5ms/step - loss: 0.0250 - accuracy: 0.9895 - val_loss: 2.0916 - val_accuracy: 0.7974\n",
            "Epoch 35/50\n",
            "625/625 [==============================] - 3s 5ms/step - loss: 0.0316 - accuracy: 0.9876 - val_loss: 2.0882 - val_accuracy: 0.8022\n",
            "Epoch 36/50\n",
            "625/625 [==============================] - 3s 5ms/step - loss: 0.0279 - accuracy: 0.9883 - val_loss: 2.0190 - val_accuracy: 0.8028\n",
            "Epoch 37/50\n",
            "625/625 [==============================] - 3s 5ms/step - loss: 0.0237 - accuracy: 0.9894 - val_loss: 2.2083 - val_accuracy: 0.8004\n",
            "Epoch 38/50\n",
            "625/625 [==============================] - 3s 5ms/step - loss: 0.0240 - accuracy: 0.9901 - val_loss: 2.1204 - val_accuracy: 0.7953\n",
            "Epoch 39/50\n",
            "625/625 [==============================] - 3s 5ms/step - loss: 0.0217 - accuracy: 0.9906 - val_loss: 2.1577 - val_accuracy: 0.7976\n",
            "Epoch 40/50\n",
            "625/625 [==============================] - 3s 5ms/step - loss: 0.0215 - accuracy: 0.9908 - val_loss: 2.2017 - val_accuracy: 0.8016\n",
            "Epoch 41/50\n",
            "625/625 [==============================] - 3s 5ms/step - loss: 0.0197 - accuracy: 0.9912 - val_loss: 2.3110 - val_accuracy: 0.7958\n",
            "Epoch 42/50\n",
            "625/625 [==============================] - 3s 5ms/step - loss: 0.0309 - accuracy: 0.9874 - val_loss: 2.1881 - val_accuracy: 0.7977\n",
            "Epoch 43/50\n",
            "625/625 [==============================] - 3s 5ms/step - loss: 0.0258 - accuracy: 0.9894 - val_loss: 2.2652 - val_accuracy: 0.7973\n",
            "Epoch 44/50\n",
            "625/625 [==============================] - 3s 5ms/step - loss: 0.0215 - accuracy: 0.9901 - val_loss: 2.3617 - val_accuracy: 0.7976\n",
            "Epoch 45/50\n",
            "625/625 [==============================] - 3s 5ms/step - loss: 0.0184 - accuracy: 0.9922 - val_loss: 2.5176 - val_accuracy: 0.7949\n",
            "Epoch 46/50\n",
            "625/625 [==============================] - 3s 5ms/step - loss: 0.0202 - accuracy: 0.9912 - val_loss: 2.3312 - val_accuracy: 0.7943\n",
            "Epoch 47/50\n",
            "625/625 [==============================] - 3s 5ms/step - loss: 0.0236 - accuracy: 0.9901 - val_loss: 2.3366 - val_accuracy: 0.7951\n",
            "Epoch 48/50\n",
            "625/625 [==============================] - 3s 5ms/step - loss: 0.0189 - accuracy: 0.9915 - val_loss: 2.3566 - val_accuracy: 0.7994\n",
            "Epoch 49/50\n",
            "625/625 [==============================] - 3s 5ms/step - loss: 0.0170 - accuracy: 0.9920 - val_loss: 2.5318 - val_accuracy: 0.7994\n",
            "Epoch 50/50\n",
            "625/625 [==============================] - 3s 5ms/step - loss: 0.0236 - accuracy: 0.9902 - val_loss: 2.4570 - val_accuracy: 0.7985\n"
          ],
          "name": "stdout"
        }
      ]
    },
    {
      "cell_type": "code",
      "metadata": {
        "colab_type": "code",
        "id": "g9DC6dmLF8DC",
        "colab": {
          "base_uri": "https://localhost:8080/",
          "height": 542
        },
        "outputId": "60de0426-19c2-4d71-c40d-ad33d1a9b303"
      },
      "source": [
        "import matplotlib.pyplot as plt\n",
        "\n",
        "\n",
        "def plot_graphs(history, string):\n",
        "  plt.plot(history.history[string])\n",
        "  plt.plot(history.history['val_'+string])\n",
        "  plt.xlabel(\"Epochs\")\n",
        "  plt.ylabel(string)\n",
        "  plt.legend([string, 'val_'+string])\n",
        "  plt.show()\n",
        "\n",
        "plot_graphs(history, 'accuracy')\n",
        "plot_graphs(history, 'loss')"
      ],
      "execution_count": 2,
      "outputs": [
        {
          "output_type": "display_data",
          "data": {
            "image/png": "[encoded data removed]",
            "text/plain": [
              "<Figure size 432x288 with 1 Axes>"
            ]
          },
          "metadata": {
            "tags": [],
            "needs_background": "light"
          }
        },
        {
          "output_type": "display_data",
          "data": {
            "image/png": "[encoded data removed]",
            "text/plain": [
              "<Figure size 432x288 with 1 Axes>"
            ]
          },
          "metadata": {
            "tags": [],
            "needs_background": "light"
          }
        }
      ]
    },
    {
      "cell_type": "code",
      "metadata": {
        "colab_type": "code",
        "id": "7ZEZIUppGhdi",
        "colab": {}
      },
      "source": [
        "model.save(\"test.h5\")"
      ],
      "execution_count": 3,
      "outputs": []
    }
  ]
}