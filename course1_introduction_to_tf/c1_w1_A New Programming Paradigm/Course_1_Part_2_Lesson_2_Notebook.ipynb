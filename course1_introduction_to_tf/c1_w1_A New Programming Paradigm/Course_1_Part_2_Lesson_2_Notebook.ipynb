{
  "nbformat": 4,
  "nbformat_minor": 0,
  "metadata": {
    "colab": {
      "name": "Course 1 - Part 2 - Lesson 2 - Notebook.ipynb",
      "provenance": [],
      "toc_visible": true
    },
    "kernelspec": {
      "display_name": "Python 3.7.7 64-bit ('py37_tf21': conda)",
      "name": "python_defaultSpec_1600712375721"
    }
  },
  "cells": [
    {
      "cell_type": "markdown",
      "metadata": {
        "colab_type": "text",
        "id": "rX8mhOLljYeM"
      },
      "source": [
        "##### Copyright 2019 The TensorFlow Authors."
      ]
    },
    {
      "cell_type": "code",
      "metadata": {
        "cellView": "form",
        "colab_type": "code",
        "id": "BZSlp3DAjdYf",
        "colab": {}
      },
      "source": [
        "#@title Licensed under the Apache License, Version 2.0 (the \"License\");\n",
        "# you may not use this file except in compliance with the License.\n",
        "# You may obtain a copy of the License at\n",
        "#\n",
        "# https://www.apache.org/licenses/LICENSE-2.0\n",
        "#\n",
        "# Unless required by applicable law or agreed to in writing, software\n",
        "# distributed under the License is distributed on an \"AS IS\" BASIS,\n",
        "# WITHOUT WARRANTIES OR CONDITIONS OF ANY KIND, either express or implied.\n",
        "# See the License for the specific language governing permissions and\n",
        "# limitations under the License."
      ],
      "execution_count": 1,
      "outputs": []
    },
    {
      "cell_type": "markdown",
      "metadata": {
        "colab_type": "text",
        "id": "ZIAkIlfmCe1B"
      },
      "source": [
        "# The Hello World of Deep Learning with Neural Networks"
      ]
    },
    {
      "cell_type": "markdown",
      "metadata": {
        "colab_type": "text",
        "id": "fA93WUy1zzWf"
      },
      "source": [
        "Like every first app you should start with something super simple that shows the overall scaffolding for how your code works. \n",
        "\n",
        "In the case of creating neural networks, the sample I like to use is one where it learns the relationship between two numbers. So, for example, if you were writing code for a function like this, you already know the 'rules' — \n",
        "\n",
        "\n",
        "```\n",
        "float hw_function(float x){\n",
        "    float y = (2 * x) - 1;\n",
        "    return y;\n",
        "}\n",
        "```\n",
        "\n",
        "So how would you train a neural network to do the equivalent task? Using data! By feeding it with a set of Xs, and a set of Ys, it should be able to figure out the relationship between them. \n",
        "\n",
        "This is obviously a very different paradigm than what you might be used to, so let's step through it piece by piece.\n"
      ]
    },
    {
      "cell_type": "markdown",
      "metadata": {
        "colab_type": "text",
        "id": "DzbtdRcZDO9B"
      },
      "source": [
        "## Imports\n",
        "\n",
        "Let's start with our imports. Here we are importing TensorFlow and calling it tf for ease of use.\n",
        "\n",
        "We then import a library called numpy, which helps us to represent our data as lists easily and quickly.\n",
        "\n",
        "The framework for defining a neural network as a set of Sequential layers is called keras, so we import that too."
      ]
    },
    {
      "cell_type": "code",
      "metadata": {
        "colab_type": "code",
        "id": "X9uIpOS2zx7k",
        "colab": {},
        "tags": []
      },
      "source": [
        "import tensorflow as tf\n",
        "import numpy as np\n",
        "from tensorflow import keras\n",
        "\n",
        "print(\"tensorflow ver.:\", tf.__version__)\n",
        "print(\"keras ver.:\", keras.__version__)"
      ],
      "execution_count": 2,
      "outputs": [
        {
          "output_type": "stream",
          "name": "stdout",
          "text": "tensorflow ver.: 2.1.0\nkeras ver.: 2.2.4-tf\n"
        }
      ]
    },
    {
      "source": [
        "## Define and Compile the Neural Network\n",
        "\n",
        "Next we will create the simplest possible neural network. It has 1 layer, and that layer has 1 neuron, and the input shape to it is just 1 value."
      ],
      "cell_type": "markdown",
      "metadata": {
        "colab_type": "text",
        "id": "wwJGmDrQ0EoB"
      }
    },
    {
      "cell_type": "code",
      "metadata": {
        "colab_type": "code",
        "id": "kQFAr_xo0M4T",
        "colab": {}
      },
      "source": [
        "model = tf.keras.Sequential([tf.keras.layers.Dense(units=1, input_shape=[1])])"
      ],
      "execution_count": 3,
      "outputs": []
    },
    {
      "cell_type": "markdown",
      "metadata": {
        "colab_type": "text",
        "id": "KhjZjZ-c0Ok9"
      },
      "source": [
        "Now we compile our Neural Network. When we do so, we have to specify 2 functions, a loss and an optimizer.\n",
        "\n",
        "If you've seen lots of math for machine learning, here's where it's usually used, but in this case it's nicely encapsulated in functions for you. But what happens here — let's explain...\n",
        "\n",
        "We know that in our function, the relationship between the numbers is y=2x-1. \n",
        "\n",
        "When the computer is trying to 'learn' that, it makes a guess...maybe y=10x+10. The LOSS function measures the guessed answers against the known correct answers and measures how well or how badly it did.\n",
        "\n",
        "It then uses the OPTIMIZER function to make another guess. Based on how the loss function went, it will try to minimize the loss. At that point maybe it will come up with somehting like y=5x+5, which, while still pretty bad, is closer to the correct result (i.e. the loss is lower)\n",
        "\n",
        "It will repeat this for the number of EPOCHS which you will see shortly. But first, here's how we tell it to use 'MEAN SQUARED ERROR' for the loss and 'STOCHASTIC GRADIENT DESCENT' for the optimizer. You don't need to understand the math for these yet, but you can see that they work! :)\n",
        "\n",
        "Over time you will learn the different and appropriate loss and optimizer functions for different scenarios. \n"
      ]
    },
    {
      "cell_type": "code",
      "metadata": {
        "colab_type": "code",
        "id": "m8YQN1H41L-Y",
        "colab": {}
      },
      "source": [
        "model.compile(optimizer='sgd', loss='mean_squared_error')"
      ],
      "execution_count": 4,
      "outputs": []
    },
    {
      "cell_type": "markdown",
      "metadata": {
        "colab_type": "text",
        "id": "5QyOUhFw1OUX"
      },
      "source": [
        "## Providing the Data\n",
        "\n",
        "Next up we'll feed in some data. In this case we are taking 6 xs and 6ys. You can see that the relationship between these is that y=2x-1, so where x = -1, y=-3 etc. etc. \n",
        "\n",
        "A python library called 'Numpy' provides lots of array type data structures that are a defacto standard way of doing it. We declare that we want to use these by specifying the values as an np.array[]"
      ]
    },
    {
      "cell_type": "code",
      "metadata": {
        "colab_type": "code",
        "id": "4Dxk4q-jzEy4",
        "colab": {}
      },
      "source": [
        "xs = np.array([-1.0,  0.0, 1.0, 2.0, 3.0, 4.0], dtype=float)\n",
        "ys = np.array([-3.0, -1.0, 1.0, 3.0, 5.0, 7.0], dtype=float)"
      ],
      "execution_count": 5,
      "outputs": []
    },
    {
      "cell_type": "markdown",
      "metadata": {
        "colab_type": "text",
        "id": "n_YcWRElnM_b"
      },
      "source": [
        "# Training the Neural Network"
      ]
    },
    {
      "cell_type": "markdown",
      "metadata": {
        "colab_type": "text",
        "id": "c-Jk4dG91dvD"
      },
      "source": [
        "The process of training the neural network, where it 'learns' the relationship between the Xs and Ys is in the **model.fit**  call. This is where it will go through the loop we spoke about above, making a guess, measuring how good or bad it is (aka the loss), using the opimizer to make another guess etc. It will do it for the number of epochs you specify. When you run this code, you'll see the loss on the right hand side."
      ]
    },
    {
      "cell_type": "code",
      "metadata": {
        "colab_type": "code",
        "id": "lpRrl7WK10Pq",
        "colab": {},
        "tags": [
          "outputPrepend"
        ]
      },
      "source": [
        "model.fit(xs, ys, epochs=500)"
      ],
      "execution_count": 6,
      "outputs": [
        {
          "output_type": "stream",
          "name": "stdout",
          "text": "======================] - 0s 333us/sample - loss: 0.0073\nEpoch 270/500\n6/6 [==============================] - 0s 333us/sample - loss: 0.0072\nEpoch 271/500\n6/6 [==============================] - 0s 334us/sample - loss: 0.0070\nEpoch 272/500\n6/6 [==============================] - 0s 333us/sample - loss: 0.0069\nEpoch 273/500\n6/6 [==============================] - 0s 500us/sample - loss: 0.0067\nEpoch 274/500\n6/6 [==============================] - 0s 166us/sample - loss: 0.0066\nEpoch 275/500\n6/6 [==============================] - 0s 455us/sample - loss: 0.0065\nEpoch 276/500\n6/6 [==============================] - 0s 333us/sample - loss: 0.0063\nEpoch 277/500\n6/6 [==============================] - 0s 167us/sample - loss: 0.0062\nEpoch 278/500\n6/6 [==============================] - 0s 334us/sample - loss: 0.0061\nEpoch 279/500\n6/6 [==============================] - 0s 333us/sample - loss: 0.0060\nEpoch 280/500\n6/6 [==============================] - 0s 333us/sample - loss: 0.0058\nEpoch 281/500\n6/6 [==============================] - 0s 167us/sample - loss: 0.0057\nEpoch 282/500\n6/6 [==============================] - 0s 333us/sample - loss: 0.0056\nEpoch 283/500\n6/6 [==============================] - 0s 167us/sample - loss: 0.0055\nEpoch 284/500\n6/6 [==============================] - 0s 333us/sample - loss: 0.0054\nEpoch 285/500\n6/6 [==============================] - 0s 333us/sample - loss: 0.0053\nEpoch 286/500\n6/6 [==============================] - 0s 167us/sample - loss: 0.0051\nEpoch 287/500\n6/6 [==============================] - 0s 334us/sample - loss: 0.0050\nEpoch 288/500\n6/6 [==============================] - 0s 167us/sample - loss: 0.0049\nEpoch 289/500\n6/6 [==============================] - 0s 333us/sample - loss: 0.0048\nEpoch 290/500\n6/6 [==============================] - 0s 333us/sample - loss: 0.0047\nEpoch 291/500\n6/6 [==============================] - 0s 333us/sample - loss: 0.0046\nEpoch 292/500\n6/6 [==============================] - 0s 167us/sample - loss: 0.0045\nEpoch 293/500\n6/6 [==============================] - 0s 500us/sample - loss: 0.0045\nEpoch 294/500\n6/6 [==============================] - 0s 333us/sample - loss: 0.0044\nEpoch 295/500\n6/6 [==============================] - 0s 333us/sample - loss: 0.0043\nEpoch 296/500\n6/6 [==============================] - 0s 167us/sample - loss: 0.0042\nEpoch 297/500\n6/6 [==============================] - 0s 333us/sample - loss: 0.0041\nEpoch 298/500\n6/6 [==============================] - 0s 438us/sample - loss: 0.0040\nEpoch 299/500\n6/6 [==============================] - 0s 334us/sample - loss: 0.0039\nEpoch 300/500\n6/6 [==============================] - 0s 333us/sample - loss: 0.0039\nEpoch 301/500\n6/6 [==============================] - 0s 333us/sample - loss: 0.0038\nEpoch 302/500\n6/6 [==============================] - 0s 333us/sample - loss: 0.0037\nEpoch 303/500\n6/6 [==============================] - 0s 333us/sample - loss: 0.0036\nEpoch 304/500\n6/6 [==============================] - 0s 333us/sample - loss: 0.0035\nEpoch 305/500\n6/6 [==============================] - 0s 450us/sample - loss: 0.0035\nEpoch 306/500\n6/6 [==============================] - 0s 333us/sample - loss: 0.0034\nEpoch 307/500\n6/6 [==============================] - 0s 334us/sample - loss: 0.0033\nEpoch 308/500\n6/6 [==============================] - 0s 500us/sample - loss: 0.0033\nEpoch 309/500\n6/6 [==============================] - 0s 500us/sample - loss: 0.0032\nEpoch 310/500\n6/6 [==============================] - 0s 167us/sample - loss: 0.0031\nEpoch 311/500\n6/6 [==============================] - 0s 333us/sample - loss: 0.0031\nEpoch 312/500\n6/6 [==============================] - 0s 167us/sample - loss: 0.0030\nEpoch 313/500\n6/6 [==============================] - 0s 167us/sample - loss: 0.0029\nEpoch 314/500\n6/6 [==============================] - 0s 667us/sample - loss: 0.0029\nEpoch 315/500\n6/6 [==============================] - 0s 333us/sample - loss: 0.0028\nEpoch 316/500\n6/6 [==============================] - 0s 333us/sample - loss: 0.0028\nEpoch 317/500\n6/6 [==============================] - 0s 167us/sample - loss: 0.0027\nEpoch 318/500\n6/6 [==============================] - 0s 333us/sample - loss: 0.0026\nEpoch 319/500\n6/6 [==============================] - 0s 283us/sample - loss: 0.0026\nEpoch 320/500\n6/6 [==============================] - 0s 167us/sample - loss: 0.0025\nEpoch 321/500\n6/6 [==============================] - 0s 333us/sample - loss: 0.0025\nEpoch 322/500\n6/6 [==============================] - 0s 333us/sample - loss: 0.0024\nEpoch 323/500\n6/6 [==============================] - 0s 333us/sample - loss: 0.0024\nEpoch 324/500\n6/6 [==============================] - 0s 333us/sample - loss: 0.0023\nEpoch 325/500\n6/6 [==============================] - 0s 500us/sample - loss: 0.0023\nEpoch 326/500\n6/6 [==============================] - 0s 333us/sample - loss: 0.0022\nEpoch 327/500\n6/6 [==============================] - 0s 333us/sample - loss: 0.0022\nEpoch 328/500\n6/6 [==============================] - 0s 248us/sample - loss: 0.0022\nEpoch 329/500\n6/6 [==============================] - 0s 333us/sample - loss: 0.0021\nEpoch 330/500\n6/6 [==============================] - 0s 334us/sample - loss: 0.0021\nEpoch 331/500\n6/6 [==============================] - 0s 1ms/sample - loss: 0.0020\nEpoch 332/500\n6/6 [==============================] - 0s 333us/sample - loss: 0.0020\nEpoch 333/500\n6/6 [==============================] - 0s 333us/sample - loss: 0.0019\nEpoch 334/500\n6/6 [==============================] - 0s 333us/sample - loss: 0.0019\nEpoch 335/500\n6/6 [==============================] - 0s 167us/sample - loss: 0.0019\nEpoch 336/500\n6/6 [==============================] - 0s 333us/sample - loss: 0.0018\nEpoch 337/500\n6/6 [==============================] - 0s 500us/sample - loss: 0.0018\nEpoch 338/500\n6/6 [==============================] - 0s 333us/sample - loss: 0.0017\nEpoch 339/500\n6/6 [==============================] - 0s 166us/sample - loss: 0.0017\nEpoch 340/500\n6/6 [==============================] - 0s 333us/sample - loss: 0.0017\nEpoch 341/500\n6/6 [==============================] - 0s 167us/sample - loss: 0.0016\nEpoch 342/500\n6/6 [==============================] - 0s 168us/sample - loss: 0.0016\nEpoch 343/500\n6/6 [==============================] - 0s 333us/sample - loss: 0.0016\nEpoch 344/500\n6/6 [==============================] - 0s 333us/sample - loss: 0.0015\nEpoch 345/500\n6/6 [==============================] - 0s 387us/sample - loss: 0.0015\nEpoch 346/500\n6/6 [==============================] - 0s 333us/sample - loss: 0.0015\nEpoch 347/500\n6/6 [==============================] - 0s 333us/sample - loss: 0.0015\nEpoch 348/500\n6/6 [==============================] - 0s 333us/sample - loss: 0.0014\nEpoch 349/500\n6/6 [==============================] - 0s 339us/sample - loss: 0.0014\nEpoch 350/500\n6/6 [==============================] - 0s 333us/sample - loss: 0.0014\nEpoch 351/500\n6/6 [==============================] - 0s 167us/sample - loss: 0.0013\nEpoch 352/500\n6/6 [==============================] - 0s 334us/sample - loss: 0.0013\nEpoch 353/500\n6/6 [==============================] - 0s 166us/sample - loss: 0.0013\nEpoch 354/500\n6/6 [==============================] - 0s 500us/sample - loss: 0.0013\nEpoch 355/500\n6/6 [==============================] - 0s 167us/sample - loss: 0.0012\nEpoch 356/500\n6/6 [==============================] - 0s 333us/sample - loss: 0.0012\nEpoch 357/500\n6/6 [==============================] - 0s 333us/sample - loss: 0.0012\nEpoch 358/500\n6/6 [==============================] - 0s 172us/sample - loss: 0.0012\nEpoch 359/500\n6/6 [==============================] - 0s 333us/sample - loss: 0.0011\nEpoch 360/500\n6/6 [==============================] - 0s 333us/sample - loss: 0.0011\nEpoch 361/500\n6/6 [==============================] - 0s 167us/sample - loss: 0.0011\nEpoch 362/500\n6/6 [==============================] - 0s 333us/sample - loss: 0.0011\nEpoch 363/500\n6/6 [==============================] - 0s 500us/sample - loss: 0.0010\nEpoch 364/500\n6/6 [==============================] - 0s 167us/sample - loss: 0.0010\nEpoch 365/500\n6/6 [==============================] - 0s 333us/sample - loss: 9.9903e-04\nEpoch 366/500\n6/6 [==============================] - 0s 333us/sample - loss: 9.7851e-04\nEpoch 367/500\n6/6 [==============================] - 0s 333us/sample - loss: 9.5841e-04\nEpoch 368/500\n6/6 [==============================] - 0s 333us/sample - loss: 9.3873e-04\nEpoch 369/500\n6/6 [==============================] - 0s 391us/sample - loss: 9.1944e-04\nEpoch 370/500\n6/6 [==============================] - 0s 167us/sample - loss: 9.0056e-04\nEpoch 371/500\n6/6 [==============================] - 0s 333us/sample - loss: 8.8206e-04\nEpoch 372/500\n6/6 [==============================] - 0s 167us/sample - loss: 8.6394e-04\nEpoch 373/500\n6/6 [==============================] - 0s 333us/sample - loss: 8.4620e-04\nEpoch 374/500\n6/6 [==============================] - 0s 751us/sample - loss: 8.2881e-04\nEpoch 375/500\n6/6 [==============================] - 0s 166us/sample - loss: 8.1179e-04\nEpoch 376/500\n6/6 [==============================] - 0s 167us/sample - loss: 7.9512e-04\nEpoch 377/500\n6/6 [==============================] - 0s 167us/sample - loss: 7.7878e-04\nEpoch 378/500\n6/6 [==============================] - 0s 500us/sample - loss: 7.6279e-04\nEpoch 379/500\n6/6 [==============================] - 0s 619us/sample - loss: 7.4711e-04\nEpoch 380/500\n6/6 [==============================] - 0s 167us/sample - loss: 7.3177e-04\nEpoch 381/500\n6/6 [==============================] - 0s 333us/sample - loss: 7.1674e-04\nEpoch 382/500\n6/6 [==============================] - 0s 333us/sample - loss: 7.0202e-04\nEpoch 383/500\n6/6 [==============================] - 0s 334us/sample - loss: 6.8760e-04\nEpoch 384/500\n6/6 [==============================] - 0s 287us/sample - loss: 6.7348e-04\nEpoch 385/500\n6/6 [==============================] - 0s 334us/sample - loss: 6.5964e-04\nEpoch 386/500\n6/6 [==============================] - 0s 166us/sample - loss: 6.4610e-04\nEpoch 387/500\n6/6 [==============================] - 0s 166us/sample - loss: 6.3282e-04\nEpoch 388/500\n6/6 [==============================] - 0s 333us/sample - loss: 6.1982e-04\nEpoch 389/500\n6/6 [==============================] - 0s 167us/sample - loss: 6.0709e-04\nEpoch 390/500\n6/6 [==============================] - 0s 166us/sample - loss: 5.9462e-04\nEpoch 391/500\n6/6 [==============================] - 0s 167us/sample - loss: 5.8241e-04\nEpoch 392/500\n6/6 [==============================] - 0s 333us/sample - loss: 5.7045e-04\nEpoch 393/500\n6/6 [==============================] - 0s 167us/sample - loss: 5.5873e-04\nEpoch 394/500\n6/6 [==============================] - 0s 99us/sample - loss: 5.4725e-04\nEpoch 395/500\n6/6 [==============================] - 0s 333us/sample - loss: 5.3601e-04\nEpoch 396/500\n6/6 [==============================] - 0s 500us/sample - loss: 5.2500e-04\nEpoch 397/500\n6/6 [==============================] - 0s 333us/sample - loss: 5.1421e-04\nEpoch 398/500\n6/6 [==============================] - 0s 386us/sample - loss: 5.0365e-04\nEpoch 399/500\n6/6 [==============================] - 0s 333us/sample - loss: 4.9330e-04\nEpoch 400/500\n6/6 [==============================] - 0s 334us/sample - loss: 4.8317e-04\nEpoch 401/500\n6/6 [==============================] - 0s 334us/sample - loss: 4.7325e-04\nEpoch 402/500\n6/6 [==============================] - 0s 3ms/sample - loss: 4.6353e-04\nEpoch 403/500\n6/6 [==============================] - 0s 334us/sample - loss: 4.5401e-04\nEpoch 404/500\n6/6 [==============================] - 0s 334us/sample - loss: 4.4468e-04\nEpoch 405/500\n6/6 [==============================] - 0s 440us/sample - loss: 4.3555e-04\nEpoch 406/500\n6/6 [==============================] - 0s 500us/sample - loss: 4.2660e-04\nEpoch 407/500\n6/6 [==============================] - 0s 333us/sample - loss: 4.1784e-04\nEpoch 408/500\n6/6 [==============================] - 0s 334us/sample - loss: 4.0926e-04\nEpoch 409/500\n6/6 [==============================] - 0s 270us/sample - loss: 4.0085e-04\nEpoch 410/500\n6/6 [==============================] - 0s 499us/sample - loss: 3.9262e-04\nEpoch 411/500\n6/6 [==============================] - 0s 334us/sample - loss: 3.8455e-04\nEpoch 412/500\n6/6 [==============================] - 0s 334us/sample - loss: 3.7665e-04\nEpoch 413/500\n6/6 [==============================] - 0s 333us/sample - loss: 3.6892e-04\nEpoch 414/500\n6/6 [==============================] - 0s 167us/sample - loss: 3.6134e-04\nEpoch 415/500\n6/6 [==============================] - 0s 333us/sample - loss: 3.5391e-04\nEpoch 416/500\n6/6 [==============================] - 0s 500us/sample - loss: 3.4665e-04\nEpoch 417/500\n6/6 [==============================] - 0s 333us/sample - loss: 3.3953e-04\nEpoch 418/500\n6/6 [==============================] - 0s 469us/sample - loss: 3.3255e-04\nEpoch 419/500\n6/6 [==============================] - 0s 167us/sample - loss: 3.2572e-04\nEpoch 420/500\n6/6 [==============================] - 0s 334us/sample - loss: 3.1903e-04\nEpoch 421/500\n6/6 [==============================] - 0s 333us/sample - loss: 3.1248e-04\nEpoch 422/500\n6/6 [==============================] - 0s 333us/sample - loss: 3.0606e-04\nEpoch 423/500\n6/6 [==============================] - 0s 898us/sample - loss: 2.9977e-04\nEpoch 424/500\n6/6 [==============================] - 0s 167us/sample - loss: 2.9361e-04\nEpoch 425/500\n6/6 [==============================] - 0s 167us/sample - loss: 2.8758e-04\nEpoch 426/500\n6/6 [==============================] - 0s 167us/sample - loss: 2.8168e-04\nEpoch 427/500\n6/6 [==============================] - 0s 464us/sample - loss: 2.7589e-04\nEpoch 428/500\n6/6 [==============================] - 0s 333us/sample - loss: 2.7022e-04\nEpoch 429/500\n6/6 [==============================] - 0s 167us/sample - loss: 2.6467e-04\nEpoch 430/500\n6/6 [==============================] - 0s 334us/sample - loss: 2.5924e-04\nEpoch 431/500\n6/6 [==============================] - 0s 650us/sample - loss: 2.5391e-04\nEpoch 432/500\n6/6 [==============================] - 0s 167us/sample - loss: 2.4869e-04\nEpoch 433/500\n6/6 [==============================] - 0s 333us/sample - loss: 2.4359e-04\nEpoch 434/500\n6/6 [==============================] - 0s 451us/sample - loss: 2.3858e-04\nEpoch 435/500\n6/6 [==============================] - 0s 334us/sample - loss: 2.3368e-04\nEpoch 436/500\n6/6 [==============================] - 0s 334us/sample - loss: 2.2888e-04\nEpoch 437/500\n6/6 [==============================] - 0s 334us/sample - loss: 2.2418e-04\nEpoch 438/500\n6/6 [==============================] - 0s 298us/sample - loss: 2.1958e-04\nEpoch 439/500\n6/6 [==============================] - 0s 167us/sample - loss: 2.1507e-04\nEpoch 440/500\n6/6 [==============================] - 0s 333us/sample - loss: 2.1065e-04\nEpoch 441/500\n6/6 [==============================] - 0s 334us/sample - loss: 2.0632e-04\nEpoch 442/500\n6/6 [==============================] - 0s 333us/sample - loss: 2.0208e-04\nEpoch 443/500\n6/6 [==============================] - 0s 504us/sample - loss: 1.9793e-04\nEpoch 444/500\n6/6 [==============================] - 0s 667us/sample - loss: 1.9386e-04\nEpoch 445/500\n6/6 [==============================] - 0s 333us/sample - loss: 1.8988e-04\nEpoch 446/500\n6/6 [==============================] - 0s 168us/sample - loss: 1.8598e-04\nEpoch 447/500\n6/6 [==============================] - 0s 167us/sample - loss: 1.8216e-04\nEpoch 448/500\n6/6 [==============================] - 0s 167us/sample - loss: 1.7842e-04\nEpoch 449/500\n6/6 [==============================] - 0s 333us/sample - loss: 1.7475e-04\nEpoch 450/500\n6/6 [==============================] - 0s 167us/sample - loss: 1.7116e-04\nEpoch 451/500\n6/6 [==============================] - 0s 166us/sample - loss: 1.6765e-04\nEpoch 452/500\n6/6 [==============================] - 0s 334us/sample - loss: 1.6420e-04\nEpoch 453/500\n6/6 [==============================] - 0s 286us/sample - loss: 1.6083e-04\nEpoch 454/500\n6/6 [==============================] - 0s 333us/sample - loss: 1.5753e-04\nEpoch 455/500\n6/6 [==============================] - 0s 333us/sample - loss: 1.5429e-04\nEpoch 456/500\n6/6 [==============================] - 0s 334us/sample - loss: 1.5112e-04\nEpoch 457/500\n6/6 [==============================] - 0s 167us/sample - loss: 1.4802e-04\nEpoch 458/500\n6/6 [==============================] - 0s 167us/sample - loss: 1.4498e-04\nEpoch 459/500\n6/6 [==============================] - 0s 334us/sample - loss: 1.4200e-04\nEpoch 460/500\n6/6 [==============================] - 0s 333us/sample - loss: 1.3908e-04\nEpoch 461/500\n6/6 [==============================] - 0s 334us/sample - loss: 1.3623e-04\nEpoch 462/500\n6/6 [==============================] - 0s 333us/sample - loss: 1.3343e-04\nEpoch 463/500\n6/6 [==============================] - 0s 500us/sample - loss: 1.3069e-04\nEpoch 464/500\n6/6 [==============================] - 0s 167us/sample - loss: 1.2800e-04\nEpoch 465/500\n6/6 [==============================] - 0s 167us/sample - loss: 1.2537e-04\nEpoch 466/500\n6/6 [==============================] - 0s 333us/sample - loss: 1.2280e-04\nEpoch 467/500\n6/6 [==============================] - 0s 341us/sample - loss: 1.2028e-04\nEpoch 468/500\n6/6 [==============================] - 0s 167us/sample - loss: 1.1781e-04\nEpoch 469/500\n6/6 [==============================] - 0s 167us/sample - loss: 1.1539e-04\nEpoch 470/500\n6/6 [==============================] - 0s 334us/sample - loss: 1.1302e-04\nEpoch 471/500\n6/6 [==============================] - 0s 333us/sample - loss: 1.1069e-04\nEpoch 472/500\n6/6 [==============================] - 0s 347us/sample - loss: 1.0842e-04\nEpoch 473/500\n6/6 [==============================] - 0s 667us/sample - loss: 1.0619e-04\nEpoch 474/500\n6/6 [==============================] - 0s 333us/sample - loss: 1.0401e-04\nEpoch 475/500\n6/6 [==============================] - 0s 167us/sample - loss: 1.0188e-04\nEpoch 476/500\n6/6 [==============================] - 0s 451us/sample - loss: 9.9783e-05\nEpoch 477/500\n6/6 [==============================] - 0s 167us/sample - loss: 9.7733e-05\nEpoch 478/500\n6/6 [==============================] - 0s 333us/sample - loss: 9.5726e-05\nEpoch 479/500\n6/6 [==============================] - 0s 333us/sample - loss: 9.3759e-05\nEpoch 480/500\n6/6 [==============================] - 0s 495us/sample - loss: 9.1835e-05\nEpoch 481/500\n6/6 [==============================] - 0s 167us/sample - loss: 8.9947e-05\nEpoch 482/500\n6/6 [==============================] - 0s 333us/sample - loss: 8.8100e-05\nEpoch 483/500\n6/6 [==============================] - 0s 500us/sample - loss: 8.6290e-05\nEpoch 484/500\n6/6 [==============================] - 0s 290us/sample - loss: 8.4518e-05\nEpoch 485/500\n6/6 [==============================] - 0s 333us/sample - loss: 8.2782e-05\nEpoch 486/500\n6/6 [==============================] - 0s 333us/sample - loss: 8.1082e-05\nEpoch 487/500\n6/6 [==============================] - 0s 333us/sample - loss: 7.9416e-05\nEpoch 488/500\n6/6 [==============================] - 0s 167us/sample - loss: 7.7786e-05\nEpoch 489/500\n6/6 [==============================] - 0s 625us/sample - loss: 7.6188e-05\nEpoch 490/500\n6/6 [==============================] - 0s 334us/sample - loss: 7.4621e-05\nEpoch 491/500\n6/6 [==============================] - 0s 166us/sample - loss: 7.3089e-05\nEpoch 492/500\n6/6 [==============================] - 0s 166us/sample - loss: 7.1589e-05\nEpoch 493/500\n6/6 [==============================] - 0s 500us/sample - loss: 7.0118e-05\nEpoch 494/500\n6/6 [==============================] - 0s 333us/sample - loss: 6.8678e-05\nEpoch 495/500\n6/6 [==============================] - 0s 167us/sample - loss: 6.7267e-05\nEpoch 496/500\n6/6 [==============================] - 0s 334us/sample - loss: 6.5886e-05\nEpoch 497/500\n6/6 [==============================] - 0s 333us/sample - loss: 6.4533e-05\nEpoch 498/500\n6/6 [==============================] - 0s 334us/sample - loss: 6.3207e-05\nEpoch 499/500\n6/6 [==============================] - 0s 278us/sample - loss: 6.1908e-05\nEpoch 500/500\n6/6 [==============================] - 0s 644us/sample - loss: 6.0637e-05\n"
        },
        {
          "output_type": "execute_result",
          "data": {
            "text/plain": "<tensorflow.python.keras.callbacks.History at 0x2537de1d5c8>"
          },
          "metadata": {},
          "execution_count": 6
        }
      ]
    },
    {
      "cell_type": "markdown",
      "metadata": {
        "colab_type": "text",
        "id": "kaFIr71H2OZ-"
      },
      "source": [
        "Ok, now you have a model that has been trained to learn the relationship between X and Y. You can use the **model.predict** method to have it figure out the Y for a previously unknown X. So, for example, if X = 10, what do you think Y will be? Take a guess before you run this code:"
      ]
    },
    {
      "cell_type": "code",
      "metadata": {
        "colab_type": "code",
        "id": "oxNzL4lS2Gui",
        "colab": {},
        "tags": []
      },
      "source": [
        "print(model.predict([10.0]))"
      ],
      "execution_count": 7,
      "outputs": [
        {
          "output_type": "stream",
          "name": "stdout",
          "text": "[[18.97728]]\n"
        }
      ]
    },
    {
      "cell_type": "markdown",
      "metadata": {
        "colab_type": "text",
        "id": "btF2CSFH2iEX"
      },
      "source": [
        "You might have thought 19, right? But it ended up being a little under. Why do you think that is? \n",
        "\n",
        "Remember that neural networks deal with probabilities, so given the data that we fed the NN with, it calculated that there is a very high probability that the relationship between X and Y is Y=2X-1, but with only 6 data points we can't know for sure. As a result, the result for 10 is very close to 19, but not necessarily 19. \n",
        "\n",
        "As you work with neural networks, you'll see this pattern recurring. You will almost always deal with probabilities, not certainties, and will do a little bit of coding to figure out what the result is based on the probabilities, particularly when it comes to classification.\n"
      ]
    }
  ]
}