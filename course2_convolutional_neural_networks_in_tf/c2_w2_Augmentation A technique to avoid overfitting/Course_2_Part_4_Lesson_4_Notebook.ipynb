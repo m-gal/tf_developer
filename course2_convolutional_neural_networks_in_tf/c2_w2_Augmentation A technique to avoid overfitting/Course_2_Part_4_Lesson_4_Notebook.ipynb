{
  "nbformat": 4,
  "nbformat_minor": 0,
  "metadata": {
    "accelerator": "GPU",
    "colab": {
      "name": "Course 2 - Part 4 - Lesson 4 - Notebook.ipynb",
      "provenance": [],
      "collapsed_sections": [],
      "toc_visible": true
    },
    "kernelspec": {
      "display_name": "Python 3",
      "name": "python3"
    }
  },
  "cells": [
    {
      "cell_type": "markdown",
      "metadata": {
        "colab_type": "text",
        "id": "rX8mhOLljYeM"
      },
      "source": [
        "##### Copyright 2019 The TensorFlow Authors."
      ]
    },
    {
      "cell_type": "code",
      "metadata": {
        "cellView": "form",
        "colab_type": "code",
        "id": "BZSlp3DAjdYf",
        "colab": {}
      },
      "source": [
        "#@title Licensed under the Apache License, Version 2.0 (the \"License\");\n",
        "# you may not use this file except in compliance with the License.\n",
        "# You may obtain a copy of the License at\n",
        "#\n",
        "# https://www.apache.org/licenses/LICENSE-2.0\n",
        "#\n",
        "# Unless required by applicable law or agreed to in writing, software\n",
        "# distributed under the License is distributed on an \"AS IS\" BASIS,\n",
        "# WITHOUT WARRANTIES OR CONDITIONS OF ANY KIND, either express or implied.\n",
        "# See the License for the specific language governing permissions and\n",
        "# limitations under the License."
      ],
      "execution_count": null,
      "outputs": []
    },
    {
      "cell_type": "code",
      "metadata": {
        "colab_type": "code",
        "id": "RXZT2UsyIVe_",
        "colab": {
          "base_uri": "https://localhost:8080/",
          "height": 421
        },
        "outputId": "645f34ec-6db8-4d6e-b8fb-a9a49338121f"
      },
      "source": [
        "!wget --no-check-certificate \\\n",
        "    https://storage.googleapis.com/laurencemoroney-blog.appspot.com/horse-or-human.zip \\\n",
        "    -O /tmp/horse-or-human.zip\n",
        "\n",
        "!wget --no-check-certificate \\\n",
        "    https://storage.googleapis.com/laurencemoroney-blog.appspot.com/validation-horse-or-human.zip \\\n",
        "    -O /tmp/validation-horse-or-human.zip\n",
        "  \n",
        "import os\n",
        "import zipfile\n",
        "\n",
        "local_zip = '/tmp/horse-or-human.zip'\n",
        "zip_ref = zipfile.ZipFile(local_zip, 'r')\n",
        "zip_ref.extractall('/tmp/horse-or-human')\n",
        "local_zip = '/tmp/validation-horse-or-human.zip'\n",
        "zip_ref = zipfile.ZipFile(local_zip, 'r')\n",
        "zip_ref.extractall('/tmp/validation-horse-or-human')\n",
        "zip_ref.close()\n",
        "# Directory with our training horse pictures\n",
        "train_horse_dir = os.path.join('/tmp/horse-or-human/horses')\n",
        "\n",
        "# Directory with our training human pictures\n",
        "train_human_dir = os.path.join('/tmp/horse-or-human/humans')\n",
        "\n",
        "# Directory with our training horse pictures\n",
        "validation_horse_dir = os.path.join('/tmp/validation-horse-or-human/horses')\n",
        "\n",
        "# Directory with our training human pictures\n",
        "validation_human_dir = os.path.join('/tmp/validation-horse-or-human/humans')"
      ],
      "execution_count": 1,
      "outputs": [
        {
          "output_type": "stream",
          "text": [
            "--2020-09-22 11:26:04--  https://storage.googleapis.com/laurencemoroney-blog.appspot.com/horse-or-human.zip\n",
            "Resolving storage.googleapis.com (storage.googleapis.com)... 74.125.197.128, 74.125.195.128, 74.125.142.128, ...\n",
            "Connecting to storage.googleapis.com (storage.googleapis.com)|74.125.197.128|:443... connected.\n",
            "HTTP request sent, awaiting response... 200 OK\n",
            "Length: 149574867 (143M) [application/zip]\n",
            "Saving to: ‘/tmp/horse-or-human.zip’\n",
            "\n",
            "/tmp/horse-or-human 100%[===================>] 142.65M  75.4MB/s    in 1.9s    \n",
            "\n",
            "2020-09-22 11:26:06 (75.4 MB/s) - ‘/tmp/horse-or-human.zip’ saved [149574867/149574867]\n",
            "\n",
            "--2020-09-22 11:26:06--  https://storage.googleapis.com/laurencemoroney-blog.appspot.com/validation-horse-or-human.zip\n",
            "Resolving storage.googleapis.com (storage.googleapis.com)... 74.125.195.128, 74.125.142.128, 74.125.20.128, ...\n",
            "Connecting to storage.googleapis.com (storage.googleapis.com)|74.125.195.128|:443... connected.\n",
            "HTTP request sent, awaiting response... 200 OK\n",
            "Length: 11480187 (11M) [application/zip]\n",
            "Saving to: ‘/tmp/validation-horse-or-human.zip’\n",
            "\n",
            "/tmp/validation-hor 100%[===================>]  10.95M  --.-KB/s    in 0.1s    \n",
            "\n",
            "2020-09-22 11:26:06 (84.4 MB/s) - ‘/tmp/validation-horse-or-human.zip’ saved [11480187/11480187]\n",
            "\n"
          ],
          "name": "stdout"
        }
      ]
    },
    {
      "cell_type": "markdown",
      "metadata": {
        "colab_type": "text",
        "id": "5oqBkNBJmtUv"
      },
      "source": [
        "## Building a Small Model from Scratch\n",
        "\n",
        "But before we continue, let's start defining the model:\n",
        "\n",
        "Step 1 will be to import tensorflow."
      ]
    },
    {
      "cell_type": "code",
      "metadata": {
        "colab_type": "code",
        "id": "qvfZg3LQbD-5",
        "colab": {}
      },
      "source": [
        "import tensorflow as tf"
      ],
      "execution_count": 2,
      "outputs": []
    },
    {
      "cell_type": "markdown",
      "metadata": {
        "colab_type": "text",
        "id": "BnhYCP4tdqjC"
      },
      "source": [
        "We then add convolutional layers as in the previous example, and flatten the final result to feed into the densely connected layers."
      ]
    },
    {
      "cell_type": "markdown",
      "metadata": {
        "colab_type": "text",
        "id": "gokG5HKpdtzm"
      },
      "source": [
        "Finally we add the densely connected layers. \n",
        "\n",
        "Note that because we are facing a two-class classification problem, i.e. a *binary classification problem*, we will end our network with a [*sigmoid* activation](https://wikipedia.org/wiki/Sigmoid_function), so that the output of our network will be a single scalar between 0 and 1, encoding the probability that the current image is class 1 (as opposed to class 0)."
      ]
    },
    {
      "cell_type": "code",
      "metadata": {
        "colab_type": "code",
        "id": "PixZ2s5QbYQ3",
        "colab": {}
      },
      "source": [
        "model = tf.keras.models.Sequential([\n",
        "    # Note the input shape is the desired size of the image 300x300 with 3 bytes color\n",
        "    # This is the first convolution\n",
        "    tf.keras.layers.Conv2D(16, (3,3), activation='relu', input_shape=(300, 300, 3)),\n",
        "    tf.keras.layers.MaxPooling2D(2, 2),\n",
        "    # The second convolution\n",
        "    tf.keras.layers.Conv2D(32, (3,3), activation='relu'),\n",
        "    tf.keras.layers.MaxPooling2D(2,2),\n",
        "    # The third convolution\n",
        "    tf.keras.layers.Conv2D(64, (3,3), activation='relu'),\n",
        "    tf.keras.layers.MaxPooling2D(2,2),\n",
        "    # The fourth convolution\n",
        "    tf.keras.layers.Conv2D(64, (3,3), activation='relu'),\n",
        "    tf.keras.layers.MaxPooling2D(2,2),\n",
        "    # The fifth convolution\n",
        "    tf.keras.layers.Conv2D(64, (3,3), activation='relu'),\n",
        "    tf.keras.layers.MaxPooling2D(2,2),\n",
        "    # Flatten the results to feed into a DNN\n",
        "    tf.keras.layers.Flatten(),\n",
        "    # 512 neuron hidden layer\n",
        "    tf.keras.layers.Dense(512, activation='relu'),\n",
        "    # Only 1 output neuron. It will contain a value from 0-1 where 0 for 1 class ('horses') and 1 for the other ('humans')\n",
        "    tf.keras.layers.Dense(1, activation='sigmoid')\n",
        "])"
      ],
      "execution_count": 3,
      "outputs": []
    },
    {
      "cell_type": "code",
      "metadata": {
        "colab_type": "code",
        "id": "8DHWhFP_uhq3",
        "colab": {}
      },
      "source": [
        "from tensorflow.keras.optimizers import RMSprop\n",
        "\n",
        "model.compile(loss='binary_crossentropy',\n",
        "              optimizer=RMSprop(lr=1e-4),\n",
        "              metrics=['accuracy'])"
      ],
      "execution_count": 4,
      "outputs": []
    },
    {
      "cell_type": "code",
      "metadata": {
        "colab_type": "code",
        "id": "ClebU9NJg99G",
        "colab": {
          "base_uri": "https://localhost:8080/",
          "height": 54
        },
        "outputId": "d3e0e110-4058-43b0-ab73-063e8f9565db"
      },
      "source": [
        "from tensorflow.keras.preprocessing.image import ImageDataGenerator\n",
        "\n",
        "# All images will be rescaled by 1./255\n",
        "train_datagen = ImageDataGenerator(\n",
        "      rescale=1./255,\n",
        "      rotation_range=40,\n",
        "      width_shift_range=0.2,\n",
        "      height_shift_range=0.2,\n",
        "      shear_range=0.2,\n",
        "      zoom_range=0.2,\n",
        "      horizontal_flip=True,\n",
        "      fill_mode='nearest')\n",
        "\n",
        "validation_datagen = ImageDataGenerator(rescale=1/255)\n",
        "\n",
        "# Flow training images in batches of 128 using train_datagen generator\n",
        "train_generator = train_datagen.flow_from_directory(\n",
        "        '/tmp/horse-or-human/',  # This is the source directory for training images\n",
        "        target_size=(300, 300),  # All images will be resized to 150x150\n",
        "        batch_size=128,\n",
        "        # Since we use binary_crossentropy loss, we need binary labels\n",
        "        class_mode='binary')\n",
        "\n",
        "# Flow training images in batches of 128 using train_datagen generator\n",
        "validation_generator = validation_datagen.flow_from_directory(\n",
        "        '/tmp/validation-horse-or-human/',  # This is the source directory for training images\n",
        "        target_size=(300, 300),  # All images will be resized to 150x150\n",
        "        batch_size=32,\n",
        "        # Since we use binary_crossentropy loss, we need binary labels\n",
        "        class_mode='binary')"
      ],
      "execution_count": 5,
      "outputs": [
        {
          "output_type": "stream",
          "text": [
            "Found 1027 images belonging to 2 classes.\n",
            "Found 256 images belonging to 2 classes.\n"
          ],
          "name": "stdout"
        }
      ]
    },
    {
      "cell_type": "code",
      "metadata": {
        "colab_type": "code",
        "id": "Fb1_lgobv81m",
        "colab": {
          "base_uri": "https://localhost:8080/",
          "height": 1000
        },
        "outputId": "1b7947a0-44c5-45ec-c055-405af193eaf7"
      },
      "source": [
        "history = model.fit(\n",
        "      train_generator,\n",
        "      steps_per_epoch=8,  \n",
        "      epochs=100,\n",
        "      verbose=1,\n",
        "      validation_data = validation_generator,\n",
        "      validation_steps=8)"
      ],
      "execution_count": 6,
      "outputs": [
        {
          "output_type": "stream",
          "text": [
            "Epoch 1/100\n",
            "8/8 [==============================] - 18s 2s/step - loss: 0.6866 - accuracy: 0.5527 - val_loss: 0.6962 - val_accuracy: 0.5000\n",
            "Epoch 2/100\n",
            "8/8 [==============================] - 18s 2s/step - loss: 0.6652 - accuracy: 0.5929 - val_loss: 0.7032 - val_accuracy: 0.5000\n",
            "Epoch 3/100\n",
            "8/8 [==============================] - 18s 2s/step - loss: 0.6208 - accuracy: 0.6963 - val_loss: 0.7266 - val_accuracy: 0.5000\n",
            "Epoch 4/100\n",
            "8/8 [==============================] - 18s 2s/step - loss: 0.6104 - accuracy: 0.7130 - val_loss: 0.6838 - val_accuracy: 0.5352\n",
            "Epoch 5/100\n",
            "8/8 [==============================] - 18s 2s/step - loss: 0.5671 - accuracy: 0.7386 - val_loss: 0.6290 - val_accuracy: 0.5977\n",
            "Epoch 6/100\n",
            "8/8 [==============================] - 18s 2s/step - loss: 0.5973 - accuracy: 0.6952 - val_loss: 0.6338 - val_accuracy: 0.5977\n",
            "Epoch 7/100\n",
            "8/8 [==============================] - 18s 2s/step - loss: 0.5497 - accuracy: 0.7319 - val_loss: 0.7014 - val_accuracy: 0.5547\n",
            "Epoch 8/100\n",
            "8/8 [==============================] - 18s 2s/step - loss: 0.5332 - accuracy: 0.7709 - val_loss: 0.8710 - val_accuracy: 0.5312\n",
            "Epoch 9/100\n",
            "8/8 [==============================] - 18s 2s/step - loss: 0.5261 - accuracy: 0.7586 - val_loss: 1.0391 - val_accuracy: 0.5078\n",
            "Epoch 10/100\n",
            "8/8 [==============================] - 18s 2s/step - loss: 0.5209 - accuracy: 0.7442 - val_loss: 0.9778 - val_accuracy: 0.5312\n",
            "Epoch 11/100\n",
            "8/8 [==============================] - 18s 2s/step - loss: 0.5838 - accuracy: 0.7386 - val_loss: 0.8683 - val_accuracy: 0.5430\n",
            "Epoch 12/100\n",
            "8/8 [==============================] - 20s 2s/step - loss: 0.4752 - accuracy: 0.7773 - val_loss: 0.9303 - val_accuracy: 0.5430\n",
            "Epoch 13/100\n",
            "8/8 [==============================] - 18s 2s/step - loss: 0.5413 - accuracy: 0.7519 - val_loss: 0.9562 - val_accuracy: 0.5430\n",
            "Epoch 14/100\n",
            "8/8 [==============================] - 20s 2s/step - loss: 0.4620 - accuracy: 0.7852 - val_loss: 1.0599 - val_accuracy: 0.5391\n",
            "Epoch 15/100\n",
            "8/8 [==============================] - 20s 2s/step - loss: 0.4630 - accuracy: 0.7686 - val_loss: 0.7435 - val_accuracy: 0.6250\n",
            "Epoch 16/100\n",
            "8/8 [==============================] - 18s 2s/step - loss: 0.5044 - accuracy: 0.7531 - val_loss: 0.9729 - val_accuracy: 0.5586\n",
            "Epoch 17/100\n",
            "8/8 [==============================] - 18s 2s/step - loss: 0.4247 - accuracy: 0.8176 - val_loss: 0.8602 - val_accuracy: 0.6094\n",
            "Epoch 18/100\n",
            "8/8 [==============================] - 18s 2s/step - loss: 0.4958 - accuracy: 0.7697 - val_loss: 0.9427 - val_accuracy: 0.5898\n",
            "Epoch 19/100\n",
            "8/8 [==============================] - 20s 3s/step - loss: 0.4800 - accuracy: 0.7753 - val_loss: 1.2207 - val_accuracy: 0.5469\n",
            "Epoch 20/100\n",
            "8/8 [==============================] - 20s 3s/step - loss: 0.4540 - accuracy: 0.7881 - val_loss: 1.1429 - val_accuracy: 0.5625\n",
            "Epoch 21/100\n",
            "8/8 [==============================] - 18s 2s/step - loss: 0.4077 - accuracy: 0.8187 - val_loss: 1.3368 - val_accuracy: 0.5508\n",
            "Epoch 22/100\n",
            "8/8 [==============================] - 18s 2s/step - loss: 0.4246 - accuracy: 0.7920 - val_loss: 1.5940 - val_accuracy: 0.5430\n",
            "Epoch 23/100\n",
            "8/8 [==============================] - 18s 2s/step - loss: 0.5387 - accuracy: 0.7586 - val_loss: 1.2746 - val_accuracy: 0.5547\n",
            "Epoch 24/100\n",
            "8/8 [==============================] - 20s 2s/step - loss: 0.3988 - accuracy: 0.8145 - val_loss: 1.5632 - val_accuracy: 0.5469\n",
            "Epoch 25/100\n",
            "8/8 [==============================] - 18s 2s/step - loss: 0.4519 - accuracy: 0.8009 - val_loss: 1.3842 - val_accuracy: 0.5547\n",
            "Epoch 26/100\n",
            "8/8 [==============================] - 20s 2s/step - loss: 0.3792 - accuracy: 0.8311 - val_loss: 1.8561 - val_accuracy: 0.5352\n",
            "Epoch 27/100\n",
            "8/8 [==============================] - 18s 2s/step - loss: 0.4094 - accuracy: 0.8076 - val_loss: 1.3353 - val_accuracy: 0.5820\n",
            "Epoch 28/100\n",
            "8/8 [==============================] - 18s 2s/step - loss: 0.4063 - accuracy: 0.8154 - val_loss: 1.2611 - val_accuracy: 0.5977\n",
            "Epoch 29/100\n",
            "8/8 [==============================] - 18s 2s/step - loss: 0.3537 - accuracy: 0.8587 - val_loss: 1.4140 - val_accuracy: 0.5898\n",
            "Epoch 30/100\n",
            "8/8 [==============================] - 18s 2s/step - loss: 0.3787 - accuracy: 0.8198 - val_loss: 1.6826 - val_accuracy: 0.5586\n",
            "Epoch 31/100\n",
            "8/8 [==============================] - 18s 2s/step - loss: 0.4137 - accuracy: 0.8098 - val_loss: 1.8678 - val_accuracy: 0.5430\n",
            "Epoch 32/100\n",
            "8/8 [==============================] - 18s 2s/step - loss: 0.3522 - accuracy: 0.8420 - val_loss: 1.8343 - val_accuracy: 0.5508\n",
            "Epoch 33/100\n",
            "8/8 [==============================] - 18s 2s/step - loss: 0.3650 - accuracy: 0.8343 - val_loss: 1.6662 - val_accuracy: 0.5547\n",
            "Epoch 34/100\n",
            "8/8 [==============================] - 18s 2s/step - loss: 0.3925 - accuracy: 0.8231 - val_loss: 1.5507 - val_accuracy: 0.5898\n",
            "Epoch 35/100\n",
            "8/8 [==============================] - 18s 2s/step - loss: 0.3240 - accuracy: 0.8643 - val_loss: 1.5134 - val_accuracy: 0.6016\n",
            "Epoch 36/100\n",
            "8/8 [==============================] - 18s 2s/step - loss: 0.3214 - accuracy: 0.8521 - val_loss: 2.1423 - val_accuracy: 0.5469\n",
            "Epoch 37/100\n",
            "8/8 [==============================] - 18s 2s/step - loss: 0.3879 - accuracy: 0.8187 - val_loss: 1.2995 - val_accuracy: 0.6172\n",
            "Epoch 38/100\n",
            "8/8 [==============================] - 18s 2s/step - loss: 0.3456 - accuracy: 0.8476 - val_loss: 2.1376 - val_accuracy: 0.5430\n",
            "Epoch 39/100\n",
            "8/8 [==============================] - 18s 2s/step - loss: 0.3497 - accuracy: 0.8532 - val_loss: 1.6387 - val_accuracy: 0.5820\n",
            "Epoch 40/100\n",
            "8/8 [==============================] - 17s 2s/step - loss: 0.3111 - accuracy: 0.8632 - val_loss: 2.3797 - val_accuracy: 0.5391\n",
            "Epoch 41/100\n",
            "8/8 [==============================] - 18s 2s/step - loss: 0.2770 - accuracy: 0.8932 - val_loss: 2.9896 - val_accuracy: 0.5195\n",
            "Epoch 42/100\n",
            "8/8 [==============================] - 18s 2s/step - loss: 0.3254 - accuracy: 0.8554 - val_loss: 1.8637 - val_accuracy: 0.5703\n",
            "Epoch 43/100\n",
            "8/8 [==============================] - 18s 2s/step - loss: 0.2875 - accuracy: 0.8799 - val_loss: 2.1858 - val_accuracy: 0.5547\n",
            "Epoch 44/100\n",
            "8/8 [==============================] - 20s 3s/step - loss: 0.2966 - accuracy: 0.8710 - val_loss: 1.4775 - val_accuracy: 0.6328\n",
            "Epoch 45/100\n",
            "8/8 [==============================] - 18s 2s/step - loss: 0.3725 - accuracy: 0.8521 - val_loss: 1.9966 - val_accuracy: 0.5664\n",
            "Epoch 46/100\n",
            "8/8 [==============================] - 17s 2s/step - loss: 0.2749 - accuracy: 0.8854 - val_loss: 1.7632 - val_accuracy: 0.5781\n",
            "Epoch 47/100\n",
            "8/8 [==============================] - 18s 2s/step - loss: 0.2591 - accuracy: 0.8910 - val_loss: 2.4296 - val_accuracy: 0.5586\n",
            "Epoch 48/100\n",
            "8/8 [==============================] - 18s 2s/step - loss: 0.3378 - accuracy: 0.8554 - val_loss: 1.4636 - val_accuracy: 0.6328\n",
            "Epoch 49/100\n",
            "8/8 [==============================] - 18s 2s/step - loss: 0.2932 - accuracy: 0.8799 - val_loss: 0.9881 - val_accuracy: 0.7148\n",
            "Epoch 50/100\n",
            "8/8 [==============================] - 20s 3s/step - loss: 0.2463 - accuracy: 0.9043 - val_loss: 2.8529 - val_accuracy: 0.5273\n",
            "Epoch 51/100\n",
            "8/8 [==============================] - 17s 2s/step - loss: 0.3021 - accuracy: 0.8699 - val_loss: 1.1709 - val_accuracy: 0.7070\n",
            "Epoch 52/100\n",
            "8/8 [==============================] - 18s 2s/step - loss: 0.3246 - accuracy: 0.8543 - val_loss: 0.9856 - val_accuracy: 0.7148\n",
            "Epoch 53/100\n",
            "8/8 [==============================] - 18s 2s/step - loss: 0.2616 - accuracy: 0.8843 - val_loss: 2.1747 - val_accuracy: 0.5859\n",
            "Epoch 54/100\n",
            "8/8 [==============================] - 17s 2s/step - loss: 0.2987 - accuracy: 0.8699 - val_loss: 2.6514 - val_accuracy: 0.5547\n",
            "Epoch 55/100\n",
            "8/8 [==============================] - 20s 2s/step - loss: 0.2348 - accuracy: 0.9043 - val_loss: 2.4986 - val_accuracy: 0.5703\n",
            "Epoch 56/100\n",
            "8/8 [==============================] - 18s 2s/step - loss: 0.2751 - accuracy: 0.8576 - val_loss: 2.2557 - val_accuracy: 0.5664\n",
            "Epoch 57/100\n",
            "8/8 [==============================] - 18s 2s/step - loss: 0.2058 - accuracy: 0.9277 - val_loss: 2.5846 - val_accuracy: 0.5742\n",
            "Epoch 58/100\n",
            "8/8 [==============================] - 17s 2s/step - loss: 0.3103 - accuracy: 0.8765 - val_loss: 1.8934 - val_accuracy: 0.5820\n",
            "Epoch 59/100\n",
            "8/8 [==============================] - 18s 2s/step - loss: 0.3074 - accuracy: 0.8810 - val_loss: 2.0846 - val_accuracy: 0.5703\n",
            "Epoch 60/100\n",
            "8/8 [==============================] - 17s 2s/step - loss: 0.2172 - accuracy: 0.9166 - val_loss: 2.4363 - val_accuracy: 0.5703\n",
            "Epoch 61/100\n",
            "8/8 [==============================] - 20s 3s/step - loss: 0.2527 - accuracy: 0.8921 - val_loss: 2.0374 - val_accuracy: 0.5742\n",
            "Epoch 62/100\n",
            "8/8 [==============================] - 18s 2s/step - loss: 0.2183 - accuracy: 0.9099 - val_loss: 2.3666 - val_accuracy: 0.5469\n",
            "Epoch 63/100\n",
            "8/8 [==============================] - 18s 2s/step - loss: 0.2932 - accuracy: 0.8665 - val_loss: 1.8362 - val_accuracy: 0.6211\n",
            "Epoch 64/100\n",
            "8/8 [==============================] - 18s 2s/step - loss: 0.2748 - accuracy: 0.8888 - val_loss: 2.5692 - val_accuracy: 0.5508\n",
            "Epoch 65/100\n",
            "8/8 [==============================] - 18s 2s/step - loss: 0.2070 - accuracy: 0.9210 - val_loss: 2.1159 - val_accuracy: 0.6133\n",
            "Epoch 66/100\n",
            "8/8 [==============================] - 18s 2s/step - loss: 0.2617 - accuracy: 0.8932 - val_loss: 2.0511 - val_accuracy: 0.5742\n",
            "Epoch 67/100\n",
            "8/8 [==============================] - 18s 2s/step - loss: 0.1961 - accuracy: 0.9232 - val_loss: 1.9635 - val_accuracy: 0.6523\n",
            "Epoch 68/100\n",
            "8/8 [==============================] - 17s 2s/step - loss: 0.2797 - accuracy: 0.8854 - val_loss: 2.9671 - val_accuracy: 0.5430\n",
            "Epoch 69/100\n",
            "8/8 [==============================] - 18s 2s/step - loss: 0.1922 - accuracy: 0.9210 - val_loss: 3.1680 - val_accuracy: 0.5391\n",
            "Epoch 70/100\n",
            "8/8 [==============================] - 20s 3s/step - loss: 0.2573 - accuracy: 0.8954 - val_loss: 1.9723 - val_accuracy: 0.6250\n",
            "Epoch 71/100\n",
            "8/8 [==============================] - 18s 2s/step - loss: 0.2468 - accuracy: 0.9066 - val_loss: 2.5707 - val_accuracy: 0.5781\n",
            "Epoch 72/100\n",
            "8/8 [==============================] - 18s 2s/step - loss: 0.1972 - accuracy: 0.9244 - val_loss: 2.9442 - val_accuracy: 0.5547\n",
            "Epoch 73/100\n",
            "8/8 [==============================] - 18s 2s/step - loss: 0.2856 - accuracy: 0.8776 - val_loss: 2.5623 - val_accuracy: 0.5703\n",
            "Epoch 74/100\n",
            "8/8 [==============================] - 21s 3s/step - loss: 0.2104 - accuracy: 0.9166 - val_loss: 2.4073 - val_accuracy: 0.5898\n",
            "Epoch 75/100\n",
            "8/8 [==============================] - 18s 2s/step - loss: 0.1540 - accuracy: 0.9466 - val_loss: 3.4101 - val_accuracy: 0.5391\n",
            "Epoch 76/100\n",
            "8/8 [==============================] - 20s 3s/step - loss: 0.1859 - accuracy: 0.9219 - val_loss: 2.4951 - val_accuracy: 0.5938\n",
            "Epoch 77/100\n",
            "8/8 [==============================] - 20s 3s/step - loss: 0.2589 - accuracy: 0.8865 - val_loss: 2.8584 - val_accuracy: 0.5742\n",
            "Epoch 78/100\n",
            "8/8 [==============================] - 18s 2s/step - loss: 0.1973 - accuracy: 0.9266 - val_loss: 1.4687 - val_accuracy: 0.6836\n",
            "Epoch 79/100\n",
            "8/8 [==============================] - 18s 2s/step - loss: 0.3146 - accuracy: 0.8665 - val_loss: 1.9954 - val_accuracy: 0.6055\n",
            "Epoch 80/100\n",
            "8/8 [==============================] - 18s 2s/step - loss: 0.2014 - accuracy: 0.9143 - val_loss: 3.1723 - val_accuracy: 0.5508\n",
            "Epoch 81/100\n",
            "8/8 [==============================] - 20s 3s/step - loss: 0.1582 - accuracy: 0.9395 - val_loss: 3.2754 - val_accuracy: 0.5586\n",
            "Epoch 82/100\n",
            "8/8 [==============================] - 20s 3s/step - loss: 0.2784 - accuracy: 0.8810 - val_loss: 2.5574 - val_accuracy: 0.5898\n",
            "Epoch 83/100\n",
            "8/8 [==============================] - 18s 2s/step - loss: 0.1691 - accuracy: 0.9388 - val_loss: 1.7394 - val_accuracy: 0.6680\n",
            "Epoch 84/100\n",
            "8/8 [==============================] - 18s 2s/step - loss: 0.2637 - accuracy: 0.8877 - val_loss: 1.9259 - val_accuracy: 0.6133\n",
            "Epoch 85/100\n",
            "8/8 [==============================] - 20s 2s/step - loss: 0.1648 - accuracy: 0.9404 - val_loss: 2.3797 - val_accuracy: 0.6133\n",
            "Epoch 86/100\n",
            "8/8 [==============================] - 18s 2s/step - loss: 0.1629 - accuracy: 0.9277 - val_loss: 2.7981 - val_accuracy: 0.5977\n",
            "Epoch 87/100\n",
            "8/8 [==============================] - 18s 2s/step - loss: 0.2074 - accuracy: 0.9132 - val_loss: 2.7364 - val_accuracy: 0.5977\n",
            "Epoch 88/100\n",
            "8/8 [==============================] - 18s 2s/step - loss: 0.1791 - accuracy: 0.9299 - val_loss: 2.7345 - val_accuracy: 0.6055\n",
            "Epoch 89/100\n",
            "8/8 [==============================] - 18s 2s/step - loss: 0.3977 - accuracy: 0.8810 - val_loss: 2.6855 - val_accuracy: 0.5742\n",
            "Epoch 90/100\n",
            "8/8 [==============================] - 20s 3s/step - loss: 0.1706 - accuracy: 0.9433 - val_loss: 2.6343 - val_accuracy: 0.5898\n",
            "Epoch 91/100\n",
            "8/8 [==============================] - 18s 2s/step - loss: 0.1393 - accuracy: 0.9488 - val_loss: 2.0199 - val_accuracy: 0.6484\n",
            "Epoch 92/100\n",
            "8/8 [==============================] - 18s 2s/step - loss: 0.2413 - accuracy: 0.9055 - val_loss: 2.6809 - val_accuracy: 0.6016\n",
            "Epoch 93/100\n",
            "8/8 [==============================] - 18s 2s/step - loss: 0.1617 - accuracy: 0.9399 - val_loss: 2.9018 - val_accuracy: 0.5898\n",
            "Epoch 94/100\n",
            "8/8 [==============================] - 18s 2s/step - loss: 0.1820 - accuracy: 0.9333 - val_loss: 2.6632 - val_accuracy: 0.6016\n",
            "Epoch 95/100\n",
            "8/8 [==============================] - 18s 2s/step - loss: 0.1950 - accuracy: 0.9199 - val_loss: 2.8342 - val_accuracy: 0.5547\n",
            "Epoch 96/100\n",
            "8/8 [==============================] - 18s 2s/step - loss: 0.1961 - accuracy: 0.9143 - val_loss: 2.5507 - val_accuracy: 0.5977\n",
            "Epoch 97/100\n",
            "8/8 [==============================] - 18s 2s/step - loss: 0.1607 - accuracy: 0.9410 - val_loss: 2.4926 - val_accuracy: 0.6094\n",
            "Epoch 98/100\n",
            "8/8 [==============================] - 18s 2s/step - loss: 0.2229 - accuracy: 0.9077 - val_loss: 2.5487 - val_accuracy: 0.6016\n",
            "Epoch 99/100\n",
            "8/8 [==============================] - 18s 2s/step - loss: 0.1655 - accuracy: 0.9377 - val_loss: 2.6864 - val_accuracy: 0.5977\n",
            "Epoch 100/100\n",
            "8/8 [==============================] - 18s 2s/step - loss: 0.1354 - accuracy: 0.9522 - val_loss: 3.2210 - val_accuracy: 0.5938\n"
          ],
          "name": "stdout"
        }
      ]
    },
    {
      "cell_type": "code",
      "metadata": {
        "colab_type": "code",
        "id": "7zNPRWOVJdOH",
        "colab": {
          "base_uri": "https://localhost:8080/",
          "height": 545
        },
        "outputId": "364d61e7-f931-4c17-b37d-3fe4d86fbc2c"
      },
      "source": [
        "import matplotlib.pyplot as plt\n",
        "acc = history.history['accuracy']\n",
        "val_acc = history.history['val_accuracy']\n",
        "loss = history.history['loss']\n",
        "val_loss = history.history['val_loss']\n",
        "\n",
        "epochs = range(len(acc))\n",
        "\n",
        "plt.plot(epochs, acc, 'r', label='Training accuracy')\n",
        "plt.plot(epochs, val_acc, 'b', label='Validation accuracy')\n",
        "plt.title('Training and validation accuracy')\n",
        "\n",
        "plt.figure()\n",
        "\n",
        "plt.plot(epochs, loss, 'r', label='Training Loss')\n",
        "plt.plot(epochs, val_loss, 'b', label='Validation Loss')\n",
        "plt.title('Training and validation loss')\n",
        "plt.legend()\n",
        "\n",
        "plt.show()"
      ],
      "execution_count": 7,
      "outputs": [
        {
          "output_type": "display_data",
          "data": {
            "image/png": "[encoded data removed]",
            "text/plain": [
              "<Figure size 432x288 with 1 Axes>"
            ]
          },
          "metadata": {
            "tags": [],
            "needs_background": "light"
          }
        },
        {
          "output_type": "display_data",
          "data": {
            "image/png": "[encoded data removed]",
            "text/plain": [
              "<Figure size 432x288 with 1 Axes>"
            ]
          },
          "metadata": {
            "tags": [],
            "needs_background": "light"
          }
        }
      ]
    }
  ]
}